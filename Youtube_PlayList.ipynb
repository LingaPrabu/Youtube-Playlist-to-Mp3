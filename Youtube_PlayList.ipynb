{
  "nbformat": 4,
  "nbformat_minor": 0,
  "metadata": {
    "colab": {
      "provenance": [],
      "authorship_tag": "ABX9TyNa0aAA/6eu8TGMZvbbIK6D",
      "include_colab_link": true
    },
    "kernelspec": {
      "name": "python3",
      "display_name": "Python 3"
    },
    "language_info": {
      "name": "python"
    }
  },
  "cells": [
    {
      "cell_type": "markdown",
      "metadata": {
        "id": "view-in-github",
        "colab_type": "text"
      },
      "source": [
        "<a href=\"https://colab.research.google.com/github/LingaPrabu/Youtube-Playlist-to-Mp3/blob/main/Youtube_PlayList.ipynb\" target=\"_parent\"><img src=\"https://colab.research.google.com/assets/colab-badge.svg\" alt=\"Open In Colab\"/></a>"
      ]
    },
    {
      "cell_type": "code",
      "execution_count": null,
      "metadata": {
        "colab": {
          "base_uri": "https://localhost:8080/"
        },
        "id": "Y10rhRpzO95G",
        "outputId": "a692a7e3-3f08-4b0c-9f52-791f42ffbc7c"
      },
      "outputs": [
        {
          "output_type": "stream",
          "name": "stdout",
          "text": [
            "Collecting pytube\n",
            "  Downloading pytube-15.0.0-py3-none-any.whl (57 kB)\n",
            "\u001b[?25l     \u001b[90m━━━━━━━━━━━━━━━━━━━━━━━━━━━━━━━━━━━━━━━━\u001b[0m \u001b[32m0.0/57.6 kB\u001b[0m \u001b[31m?\u001b[0m eta \u001b[36m-:--:--\u001b[0m\r\u001b[2K     \u001b[90m━━━━━━━━━━━━━━━━━━━━━━━━━━━━━━━━━━━━━━━━\u001b[0m \u001b[32m57.6/57.6 kB\u001b[0m \u001b[31m1.5 MB/s\u001b[0m eta \u001b[36m0:00:00\u001b[0m\n",
            "\u001b[?25hInstalling collected packages: pytube\n",
            "Successfully installed pytube-15.0.0\n"
          ]
        }
      ],
      "source": [
        "!pip install pytube\n",
        "\n",
        "from pytube import YouTube\n",
        "from pytube import Playlist\n",
        "import os\n",
        "import moviepy.editor as mp"
      ]
    },
    {
      "cell_type": "code",
      "source": [
        "playlist = Playlist(\"https://www.youtube.com/watch?v=DzrvFV67XD0&list=PLUysC4CTgKNONag2mtW0nu4NNIbV9n9Aa&pp=iAQB\")"
      ],
      "metadata": {
        "id": "PEVYOziqPdf2"
      },
      "execution_count": null,
      "outputs": []
    },
    {
      "cell_type": "code",
      "source": [
        "for url in playlist:\n",
        "   YouTube(url).streams.filter(only_audio=True).first().download('/content/Songs')"
      ],
      "metadata": {
        "id": "nZ6lHzbPPysu"
      },
      "execution_count": null,
      "outputs": []
    },
    {
      "cell_type": "code",
      "source": [
        "for file in os.listdir(\"/content/Songs\"):\n",
        "  print(file)\n",
        "  mp.AudioFileClip(\"/content/Songs/\"+file).write_audiofile(os.path.join(\"/content/Songs\",os.path.splitext(\"/content/Songs/\"+file)[0]+'.mp3'))\n",
        "  os.remove(\"/content/Songs/\"+file)"
      ],
      "metadata": {
        "colab": {
          "base_uri": "https://localhost:8080/"
        },
        "id": "jdmPsmX_U8My",
        "outputId": "aa9461e7-3995-457a-ef13-a85fcc15f962"
      },
      "execution_count": null,
      "outputs": [
        {
          "output_type": "stream",
          "name": "stdout",
          "text": [
            "Manmadhan  Kadhal Valarthen Video Song  Silambarasan Jyotika  Yuvan Shankar Raja ThinkTapes.mp4\n",
            "MoviePy - Writing audio in /content/Songs/Manmadhan  Kadhal Valarthen Video Song  Silambarasan Jyotika  Yuvan Shankar Raja ThinkTapes.mp3\n"
          ]
        },
        {
          "output_type": "stream",
          "name": "stderr",
          "text": []
        },
        {
          "output_type": "stream",
          "name": "stdout",
          "text": [
            "MoviePy - Done.\n",
            "Ippadi Mazhai.mp4\n",
            "MoviePy - Writing audio in /content/Songs/Ippadi Mazhai.mp3\n"
          ]
        },
        {
          "output_type": "stream",
          "name": "stderr",
          "text": []
        },
        {
          "output_type": "stream",
          "name": "stdout",
          "text": [
            "MoviePy - Done.\n",
            "Naakka Mukka  Male Version  Video Song  Vijay Antony  Kaadhalil Vizhunthen   Nakul Sunaina.mp4\n",
            "MoviePy - Writing audio in /content/Songs/Naakka Mukka  Male Version  Video Song  Vijay Antony  Kaadhalil Vizhunthen   Nakul Sunaina.mp3\n"
          ]
        },
        {
          "output_type": "stream",
          "name": "stderr",
          "text": []
        },
        {
          "output_type": "stream",
          "name": "stdout",
          "text": [
            "MoviePy - Done.\n",
            "O Podu  Nenju Thudikkuthu  Gemini 1080p HD VIdeo Song.mp4\n",
            "MoviePy - Writing audio in /content/Songs/O Podu  Nenju Thudikkuthu  Gemini 1080p HD VIdeo Song.mp3\n"
          ]
        },
        {
          "output_type": "stream",
          "name": "stderr",
          "text": []
        },
        {
          "output_type": "stream",
          "name": "stdout",
          "text": [
            "MoviePy - Done.\n",
            "Jai Sulthan.mp4\n",
            "MoviePy - Writing audio in /content/Songs/Jai Sulthan.mp3\n"
          ]
        },
        {
          "output_type": "stream",
          "name": "stderr",
          "text": []
        },
        {
          "output_type": "stream",
          "name": "stdout",
          "text": [
            "MoviePy - Done.\n",
            "Yembuttu Irukkuthu Aasai Video  Imman  Latest Hit.mp4\n",
            "MoviePy - Writing audio in /content/Songs/Yembuttu Irukkuthu Aasai Video  Imman  Latest Hit.mp3\n"
          ]
        },
        {
          "output_type": "stream",
          "name": "stderr",
          "text": []
        },
        {
          "output_type": "stream",
          "name": "stdout",
          "text": [
            "MoviePy - Done.\n",
            "Kasu Panam (From Soodhu Kavvum).mp4\n",
            "MoviePy - Writing audio in /content/Songs/Kasu Panam (From Soodhu Kavvum).mp3\n"
          ]
        },
        {
          "output_type": "stream",
          "name": "stderr",
          "text": []
        },
        {
          "output_type": "stream",
          "name": "stdout",
          "text": [
            "MoviePy - Done.\n",
            "Ellapugazhum - Video Song  Azhagiya Tamil Magan  Vijay  AR Rahman  Ayngaran.mp4\n",
            "MoviePy - Writing audio in /content/Songs/Ellapugazhum - Video Song  Azhagiya Tamil Magan  Vijay  AR Rahman  Ayngaran.mp3\n"
          ]
        },
        {
          "output_type": "stream",
          "name": "stderr",
          "text": []
        },
        {
          "output_type": "stream",
          "name": "stdout",
          "text": [
            "MoviePy - Done.\n",
            "Kadhal Vaithu - Video Song  Deepavali  Jayam Ravi  Bhavana  Yuvan Shankar Raja  Ayngaran.mp4\n",
            "MoviePy - Writing audio in /content/Songs/Kadhal Vaithu - Video Song  Deepavali  Jayam Ravi  Bhavana  Yuvan Shankar Raja  Ayngaran.mp3\n"
          ]
        },
        {
          "output_type": "stream",
          "name": "stderr",
          "text": []
        },
        {
          "output_type": "stream",
          "name": "stdout",
          "text": [
            "MoviePy - Done.\n",
            "Single Pasanga.mp4\n",
            "MoviePy - Writing audio in /content/Songs/Single Pasanga.mp3\n"
          ]
        },
        {
          "output_type": "stream",
          "name": "stderr",
          "text": []
        },
        {
          "output_type": "stream",
          "name": "stdout",
          "text": [
            "MoviePy - Done.\n",
            "Desi Girl - Official Video  Saahasam  STR Lakshmi Menon  Prashanth Nargis Fakhri  Thaman SS.mp4\n",
            "MoviePy - Writing audio in /content/Songs/Desi Girl - Official Video  Saahasam  STR Lakshmi Menon  Prashanth Nargis Fakhri  Thaman SS.mp3\n"
          ]
        },
        {
          "output_type": "stream",
          "name": "stderr",
          "text": []
        },
        {
          "output_type": "stream",
          "name": "stdout",
          "text": [
            "MoviePy - Done.\n",
            "Evandi Unna Pethan Video Song  Vaanam Tamil Movie Songs HD  Simbu  Anushka  Yuvan Shankar Raja.mp4\n",
            "MoviePy - Writing audio in /content/Songs/Evandi Unna Pethan Video Song  Vaanam Tamil Movie Songs HD  Simbu  Anushka  Yuvan Shankar Raja.mp3\n"
          ]
        },
        {
          "output_type": "stream",
          "name": "stderr",
          "text": []
        },
        {
          "output_type": "stream",
          "name": "stdout",
          "text": [
            "MoviePy - Done.\n",
            "Mazhai Tamil Movie Songs HD  Mannile Video Song  Shriya  Jayam Ravi  Devi Sri Prasad.mp4\n",
            "MoviePy - Writing audio in /content/Songs/Mazhai Tamil Movie Songs HD  Mannile Video Song  Shriya  Jayam Ravi  Devi Sri Prasad.mp3\n"
          ]
        },
        {
          "output_type": "stream",
          "name": "stderr",
          "text": []
        },
        {
          "output_type": "stream",
          "name": "stdout",
          "text": [
            "MoviePy - Done.\n",
            "Vadi Kutty Lady Official Video  Full HD  India Pakistan  Vijay Antony  Sushma  Deena Devarajan.mp4\n",
            "MoviePy - Writing audio in /content/Songs/Vadi Kutty Lady Official Video  Full HD  India Pakistan  Vijay Antony  Sushma  Deena Devarajan.mp3\n"
          ]
        },
        {
          "output_type": "stream",
          "name": "stderr",
          "text": []
        },
        {
          "output_type": "stream",
          "name": "stdout",
          "text": [
            "MoviePy - Done.\n",
            "Yaendi Yaendi.mp4\n",
            "MoviePy - Writing audio in /content/Songs/Yaendi Yaendi.mp3\n"
          ]
        },
        {
          "output_type": "stream",
          "name": "stderr",
          "text": []
        },
        {
          "output_type": "stream",
          "name": "stdout",
          "text": [
            "MoviePy - Done.\n",
            "Kandangi Full Song - Jilla Tamil Movie  Vijay  Kajal Aggarwal  Imman  Shreya Ghoshal.mp4\n",
            "MoviePy - Writing audio in /content/Songs/Kandangi Full Song - Jilla Tamil Movie  Vijay  Kajal Aggarwal  Imman  Shreya Ghoshal.mp3\n"
          ]
        },
        {
          "output_type": "stream",
          "name": "stderr",
          "text": []
        },
        {
          "output_type": "stream",
          "name": "stdout",
          "text": [
            "MoviePy - Done.\n",
            "GaandaKannazhagi - Video Song  Namma Veettu Pillai Sivakarthikeyan SunPictures Pandiraj DImman.mp4\n",
            "MoviePy - Writing audio in /content/Songs/GaandaKannazhagi - Video Song  Namma Veettu Pillai Sivakarthikeyan SunPictures Pandiraj DImman.mp3\n"
          ]
        },
        {
          "output_type": "stream",
          "name": "stderr",
          "text": []
        },
        {
          "output_type": "stream",
          "name": "stdout",
          "text": [
            "MoviePy - Done.\n",
            "Ivan Vera Mathiri - Lovulla Video  Vikram Prabhu Surabhi  C Sathya.mp4\n",
            "MoviePy - Writing audio in /content/Songs/Ivan Vera Mathiri - Lovulla Video  Vikram Prabhu Surabhi  C Sathya.mp3\n"
          ]
        },
        {
          "output_type": "stream",
          "name": "stderr",
          "text": []
        },
        {
          "output_type": "stream",
          "name": "stdout",
          "text": [
            "MoviePy - Done.\n",
            "Chillax.mp4\n",
            "MoviePy - Writing audio in /content/Songs/Chillax.mp3\n"
          ]
        },
        {
          "output_type": "stream",
          "name": "stderr",
          "text": []
        },
        {
          "output_type": "stream",
          "name": "stdout",
          "text": [
            "MoviePy - Done.\n",
            "Kadhalan Movie Songs  Kadhalikum Pennin Full Video Song 4K  Prabhu Deva  Nagma  SPB  AR Rahman.mp4\n",
            "MoviePy - Writing audio in /content/Songs/Kadhalan Movie Songs  Kadhalikum Pennin Full Video Song 4K  Prabhu Deva  Nagma  SPB  AR Rahman.mp3\n"
          ]
        },
        {
          "output_type": "stream",
          "name": "stderr",
          "text": []
        },
        {
          "output_type": "stream",
          "name": "stdout",
          "text": [
            "MoviePy - Done.\n",
            "Chammak Challo (Film Version).mp4\n",
            "MoviePy - Writing audio in /content/Songs/Chammak Challo (Film Version).mp3\n"
          ]
        },
        {
          "output_type": "stream",
          "name": "stderr",
          "text": []
        },
        {
          "output_type": "stream",
          "name": "stdout",
          "text": [
            "MoviePy - Done.\n",
            "Pottadhu Pathala Video Song  Saguni   Karthi  Pranitha  Santhanam.mp4\n",
            "MoviePy - Writing audio in /content/Songs/Pottadhu Pathala Video Song  Saguni   Karthi  Pranitha  Santhanam.mp3\n"
          ]
        },
        {
          "output_type": "stream",
          "name": "stderr",
          "text": []
        },
        {
          "output_type": "stream",
          "name": "stdout",
          "text": [
            "MoviePy - Done.\n",
            "Yappa Chappa.mp4\n",
            "MoviePy - Writing audio in /content/Songs/Yappa Chappa.mp3\n"
          ]
        },
        {
          "output_type": "stream",
          "name": "stderr",
          "text": []
        },
        {
          "output_type": "stream",
          "name": "stdout",
          "text": [
            "MoviePy - Done.\n",
            "Michael - Pammare Full Video Song   Sundeep Kishan Vijay Sethupathi  Ranjit Jeyakodi  Sam CS.mp4\n",
            "MoviePy - Writing audio in /content/Songs/Michael - Pammare Full Video Song   Sundeep Kishan Vijay Sethupathi  Ranjit Jeyakodi  Sam CS.mp3\n"
          ]
        },
        {
          "output_type": "stream",
          "name": "stderr",
          "text": []
        },
        {
          "output_type": "stream",
          "name": "stdout",
          "text": [
            "MoviePy - Done.\n",
            "Onnu Rendu.mp4\n",
            "MoviePy - Writing audio in /content/Songs/Onnu Rendu.mp3\n"
          ]
        },
        {
          "output_type": "stream",
          "name": "stderr",
          "text": []
        },
        {
          "output_type": "stream",
          "name": "stdout",
          "text": [
            "MoviePy - Done.\n",
            "Mangalyam.mp4\n",
            "MoviePy - Writing audio in /content/Songs/Mangalyam.mp3\n"
          ]
        },
        {
          "output_type": "stream",
          "name": "stderr",
          "text": []
        },
        {
          "output_type": "stream",
          "name": "stdout",
          "text": [
            "MoviePy - Done.\n",
            "Naan Nadandhal Adhiradi Video  Mani Sharma.mp4\n",
            "MoviePy - Writing audio in /content/Songs/Naan Nadandhal Adhiradi Video  Mani Sharma.mp3\n"
          ]
        },
        {
          "output_type": "stream",
          "name": "stderr",
          "text": []
        },
        {
          "output_type": "stream",
          "name": "stdout",
          "text": [
            "MoviePy - Done.\n",
            "AR Rahman Hit Songs  Urvasi Urvasi Song  Kadhalan Tamil Movie  Prabhudeva  Vadivelu  AR Rahman.mp4\n",
            "MoviePy - Writing audio in /content/Songs/AR Rahman Hit Songs  Urvasi Urvasi Song  Kadhalan Tamil Movie  Prabhudeva  Vadivelu  AR Rahman.mp3\n"
          ]
        },
        {
          "output_type": "stream",
          "name": "stderr",
          "text": []
        },
        {
          "output_type": "stream",
          "name": "stdout",
          "text": [
            "MoviePy - Done.\n",
            "Adada Mazhaida Video  Karthi Tamannah  Yuvan Shankar Raja.mp4\n",
            "MoviePy - Writing audio in /content/Songs/Adada Mazhaida Video  Karthi Tamannah  Yuvan Shankar Raja.mp3\n"
          ]
        },
        {
          "output_type": "stream",
          "name": "stderr",
          "text": []
        },
        {
          "output_type": "stream",
          "name": "stdout",
          "text": [
            "MoviePy - Done.\n",
            "Obamaavum.mp4\n",
            "MoviePy - Writing audio in /content/Songs/Obamaavum.mp3\n"
          ]
        },
        {
          "output_type": "stream",
          "name": "stderr",
          "text": []
        },
        {
          "output_type": "stream",
          "name": "stdout",
          "text": [
            "MoviePy - Done.\n",
            "Oxygen - Video Song  Kavan  Hiphop Tamizha  K V Anand  Vijay Sethupathi Madonna Sebastian.mp4\n",
            "MoviePy - Writing audio in /content/Songs/Oxygen - Video Song  Kavan  Hiphop Tamizha  K V Anand  Vijay Sethupathi Madonna Sebastian.mp3\n"
          ]
        },
        {
          "output_type": "stream",
          "name": "stderr",
          "text": []
        },
        {
          "output_type": "stream",
          "name": "stdout",
          "text": [
            "MoviePy - Done.\n",
            "Iragai Poley  Naan Mahaan Alla  Karthi  Kajal Aggarwal  Yuvan Shankar Raja  Suseenthiran.mp4\n",
            "MoviePy - Writing audio in /content/Songs/Iragai Poley  Naan Mahaan Alla  Karthi  Kajal Aggarwal  Yuvan Shankar Raja  Suseenthiran.mp3\n"
          ]
        },
        {
          "output_type": "stream",
          "name": "stderr",
          "text": []
        },
        {
          "output_type": "stream",
          "name": "stdout",
          "text": [
            "MoviePy - Done.\n",
            "Kudi Vaazhthu video song Mugamoodi.mp4\n",
            "MoviePy - Writing audio in /content/Songs/Kudi Vaazhthu video song Mugamoodi.mp3\n"
          ]
        },
        {
          "output_type": "stream",
          "name": "stderr",
          "text": []
        },
        {
          "output_type": "stream",
          "name": "stdout",
          "text": [
            "MoviePy - Done.\n",
            "Adipoli.mp4\n",
            "MoviePy - Writing audio in /content/Songs/Adipoli.mp3\n"
          ]
        },
        {
          "output_type": "stream",
          "name": "stderr",
          "text": []
        },
        {
          "output_type": "stream",
          "name": "stdout",
          "text": [
            "MoviePy - Done.\n",
            "Chellamae Tamil Movie Video Songs  Kadhalikkum Aasai Song  Vishal  Reema Sen  Bharath.mp4\n",
            "MoviePy - Writing audio in /content/Songs/Chellamae Tamil Movie Video Songs  Kadhalikkum Aasai Song  Vishal  Reema Sen  Bharath.mp3\n"
          ]
        },
        {
          "output_type": "stream",
          "name": "stderr",
          "text": []
        },
        {
          "output_type": "stream",
          "name": "stdout",
          "text": [
            "MoviePy - Done.\n",
            "Kadhalikka.mp4\n",
            "MoviePy - Writing audio in /content/Songs/Kadhalikka.mp3\n"
          ]
        },
        {
          "output_type": "stream",
          "name": "stderr",
          "text": []
        },
        {
          "output_type": "stream",
          "name": "stdout",
          "text": [
            "MoviePy - Done.\n",
            "Maacho Tamil Video  Vijay Kajal Aggarwal  AR Rahman.mp4\n",
            "MoviePy - Writing audio in /content/Songs/Maacho Tamil Video  Vijay Kajal Aggarwal  AR Rahman.mp3\n"
          ]
        },
        {
          "output_type": "stream",
          "name": "stderr",
          "text": []
        },
        {
          "output_type": "stream",
          "name": "stdout",
          "text": [
            "MoviePy - Done.\n",
            "Dikkiloona - Cycle Wheela Pola Video   Santhanam  Yuvanshankar Raja  Karthik Yogi.mp4\n",
            "MoviePy - Writing audio in /content/Songs/Dikkiloona - Cycle Wheela Pola Video   Santhanam  Yuvanshankar Raja  Karthik Yogi.mp3\n"
          ]
        },
        {
          "output_type": "stream",
          "name": "stderr",
          "text": []
        },
        {
          "output_type": "stream",
          "name": "stdout",
          "text": [
            "MoviePy - Done.\n",
            "Kovakkara Kiliye Video  Yuvanshankar Raja Suriya.mp4\n",
            "MoviePy - Writing audio in /content/Songs/Kovakkara Kiliye Video  Yuvanshankar Raja Suriya.mp3\n"
          ]
        },
        {
          "output_type": "stream",
          "name": "stderr",
          "text": []
        },
        {
          "output_type": "stream",
          "name": "stdout",
          "text": [
            "MoviePy - Done.\n",
            "Naan Movie Video Songs  Thapellam Thappe Illai  Vijay Antony.mp4\n",
            "MoviePy - Writing audio in /content/Songs/Naan Movie Video Songs  Thapellam Thappe Illai  Vijay Antony.mp3\n"
          ]
        },
        {
          "output_type": "stream",
          "name": "stderr",
          "text": []
        },
        {
          "output_type": "stream",
          "name": "stdout",
          "text": [
            "MoviePy - Done.\n",
            "Kathadi Pol.mp4\n",
            "MoviePy - Writing audio in /content/Songs/Kathadi Pol.mp3\n"
          ]
        },
        {
          "output_type": "stream",
          "name": "stderr",
          "text": []
        },
        {
          "output_type": "stream",
          "name": "stdout",
          "text": [
            "MoviePy - Done.\n",
            "Naan Aalana Thamarai.mp4\n",
            "MoviePy - Writing audio in /content/Songs/Naan Aalana Thamarai.mp3\n"
          ]
        },
        {
          "output_type": "stream",
          "name": "stderr",
          "text": []
        },
        {
          "output_type": "stream",
          "name": "stdout",
          "text": [
            "MoviePy - Done.\n",
            "Kona Kondakari Video  Kathir Oviya.mp4\n",
            "MoviePy - Writing audio in /content/Songs/Kona Kondakari Video  Kathir Oviya.mp3\n"
          ]
        },
        {
          "output_type": "stream",
          "name": "stderr",
          "text": []
        },
        {
          "output_type": "stream",
          "name": "stdout",
          "text": [
            "MoviePy - Done.\n",
            "Kalakka Povathu - HD Video Song  Vasool Raja  Kamal Haasan  Sneha  Saran  Bharadwaj  Ayngaran.mp4\n",
            "MoviePy - Writing audio in /content/Songs/Kalakka Povathu - HD Video Song  Vasool Raja  Kamal Haasan  Sneha  Saran  Bharadwaj  Ayngaran.mp3\n"
          ]
        },
        {
          "output_type": "stream",
          "name": "stderr",
          "text": []
        },
        {
          "output_type": "stream",
          "name": "stdout",
          "text": [
            "MoviePy - Done.\n",
            "Asku Maaro Video  Kavin Teju Ashwini  Dharan Kumar  K Sivaangi  Dongli Jumbo  Sandy.mp4\n",
            "MoviePy - Writing audio in /content/Songs/Asku Maaro Video  Kavin Teju Ashwini  Dharan Kumar  K Sivaangi  Dongli Jumbo  Sandy.mp3\n"
          ]
        },
        {
          "output_type": "stream",
          "name": "stderr",
          "text": []
        },
        {
          "output_type": "stream",
          "name": "stdout",
          "text": [
            "MoviePy - Done.\n",
            "Dandanakka Video  Jayam Ravi Hansika  Imman.mp4\n",
            "MoviePy - Writing audio in /content/Songs/Dandanakka Video  Jayam Ravi Hansika  Imman.mp3\n"
          ]
        },
        {
          "output_type": "stream",
          "name": "stderr",
          "text": []
        },
        {
          "output_type": "stream",
          "name": "stdout",
          "text": [
            "MoviePy - Done.\n",
            "Mayam Seidhayo Video  Vijay Hansika  Vijay Antony.mp4\n",
            "MoviePy - Writing audio in /content/Songs/Mayam Seidhayo Video  Vijay Hansika  Vijay Antony.mp3\n"
          ]
        },
        {
          "output_type": "stream",
          "name": "stderr",
          "text": []
        },
        {
          "output_type": "stream",
          "name": "stdout",
          "text": [
            "MoviePy - Done.\n",
            "Thozhiya En Kadhaliya Tamil Song 4K  Kadhalil Vizhunthen Songs 4K  4KTAMIL  TOP10INDIA.mp4\n",
            "MoviePy - Writing audio in /content/Songs/Thozhiya En Kadhaliya Tamil Song 4K  Kadhalil Vizhunthen Songs 4K  4KTAMIL  TOP10INDIA.mp3\n"
          ]
        },
        {
          "output_type": "stream",
          "name": "stderr",
          "text": []
        },
        {
          "output_type": "stream",
          "name": "stdout",
          "text": [
            "MoviePy - Done.\n",
            "Arjun HeyMaamaaHeyMaaMaaVariyaa.mp4\n",
            "MoviePy - Writing audio in /content/Songs/Arjun HeyMaamaaHeyMaaMaaVariyaa.mp3\n"
          ]
        },
        {
          "output_type": "stream",
          "name": "stderr",
          "text": []
        },
        {
          "output_type": "stream",
          "name": "stdout",
          "text": [
            "MoviePy - Done.\n",
            "Naan Siricha.mp4\n",
            "MoviePy - Writing audio in /content/Songs/Naan Siricha.mp3\n"
          ]
        },
        {
          "output_type": "stream",
          "name": "stderr",
          "text": []
        },
        {
          "output_type": "stream",
          "name": "stdout",
          "text": [
            "MoviePy - Done.\n",
            "Memory loss Tamil video song4kThillalangadi(@Sunnxt).mp4\n",
            "MoviePy - Writing audio in /content/Songs/Memory loss Tamil video song4kThillalangadi(@Sunnxt).mp3\n"
          ]
        },
        {
          "output_type": "stream",
          "name": "stderr",
          "text": []
        },
        {
          "output_type": "stream",
          "name": "stdout",
          "text": [
            "MoviePy - Done.\n",
            "Vaada Vaa Machi Full Song Video HD  Orange Music.mp4\n",
            "MoviePy - Writing audio in /content/Songs/Vaada Vaa Machi Full Song Video HD  Orange Music.mp3\n"
          ]
        },
        {
          "output_type": "stream",
          "name": "stderr",
          "text": []
        },
        {
          "output_type": "stream",
          "name": "stdout",
          "text": [
            "MoviePy - Done.\n",
            "Jithu Jilladi.mp4\n",
            "MoviePy - Writing audio in /content/Songs/Jithu Jilladi.mp3\n"
          ]
        },
        {
          "output_type": "stream",
          "name": "stderr",
          "text": []
        },
        {
          "output_type": "stream",
          "name": "stdout",
          "text": [
            "MoviePy - Done.\n",
            "ஆதவன் - வாராயோ வாராயோ தமிழ் பாடல்வரிகள்  சூர்யா.mp4\n",
            "MoviePy - Writing audio in /content/Songs/ஆதவன் - வாராயோ வாராயோ தமிழ் பாடல்வரிகள்  சூர்யா.mp3\n"
          ]
        },
        {
          "output_type": "stream",
          "name": "stderr",
          "text": []
        },
        {
          "output_type": "stream",
          "name": "stdout",
          "text": [
            "MoviePy - Done.\n",
            "Edhukku Machan.mp4\n",
            "MoviePy - Writing audio in /content/Songs/Edhukku Machan.mp3\n"
          ]
        },
        {
          "output_type": "stream",
          "name": "stderr",
          "text": []
        },
        {
          "output_type": "stream",
          "name": "stdout",
          "text": [
            "MoviePy - Done.\n",
            "Hey Saala - HD Video Song  ஹே சாலா  Aegan  Ajith Kumar  Nayanthara  Yuvan Shankar Raja.mp4\n",
            "MoviePy - Writing audio in /content/Songs/Hey Saala - HD Video Song  ஹே சாலா  Aegan  Ajith Kumar  Nayanthara  Yuvan Shankar Raja.mp3\n"
          ]
        },
        {
          "output_type": "stream",
          "name": "stderr",
          "text": []
        },
        {
          "output_type": "stream",
          "name": "stdout",
          "text": [
            "MoviePy - Done.\n",
            "Sonna Puriyadhu.mp4\n",
            "MoviePy - Writing audio in /content/Songs/Sonna Puriyadhu.mp3\n"
          ]
        },
        {
          "output_type": "stream",
          "name": "stderr",
          "text": []
        },
        {
          "output_type": "stream",
          "name": "stdout",
          "text": [
            "MoviePy - Done.\n",
            "Slum Anthem.mp4\n",
            "MoviePy - Writing audio in /content/Songs/Slum Anthem.mp3\n"
          ]
        },
        {
          "output_type": "stream",
          "name": "stderr",
          "text": []
        },
        {
          "output_type": "stream",
          "name": "stdout",
          "text": [
            "MoviePy - Done.\n",
            "Ayyo Ayyo - M Kumaran Son of Mahalakshmi  Jayam Ravi Asin  Srikanth Deva  ThinkTapes.mp4\n",
            "MoviePy - Writing audio in /content/Songs/Ayyo Ayyo - M Kumaran Son of Mahalakshmi  Jayam Ravi Asin  Srikanth Deva  ThinkTapes.mp3\n"
          ]
        },
        {
          "output_type": "stream",
          "name": "stderr",
          "text": []
        },
        {
          "output_type": "stream",
          "name": "stdout",
          "text": [
            "MoviePy - Done.\n",
            "Kutti Puli Kootam Tamil Video Song  Thuppakki  Thalapathy Vijay  Harris Jayaraj.mp4\n",
            "MoviePy - Writing audio in /content/Songs/Kutti Puli Kootam Tamil Video Song  Thuppakki  Thalapathy Vijay  Harris Jayaraj.mp3\n"
          ]
        },
        {
          "output_type": "stream",
          "name": "stderr",
          "text": []
        },
        {
          "output_type": "stream",
          "name": "stdout",
          "text": [
            "MoviePy - Done.\n",
            "Nee Yeppo Pulla Video  Vikram Prabhu Lakshmi Menon  D Imman.mp4\n",
            "MoviePy - Writing audio in /content/Songs/Nee Yeppo Pulla Video  Vikram Prabhu Lakshmi Menon  D Imman.mp3\n"
          ]
        },
        {
          "output_type": "stream",
          "name": "stderr",
          "text": []
        },
        {
          "output_type": "stream",
          "name": "stdout",
          "text": [
            "MoviePy - Done.\n",
            "Hara Hara Mahadevaki   Motta Shiva Ketta Shiva   Official HD Video Song.mp4\n",
            "MoviePy - Writing audio in /content/Songs/Hara Hara Mahadevaki   Motta Shiva Ketta Shiva   Official HD Video Song.mp3\n"
          ]
        },
        {
          "output_type": "stream",
          "name": "stderr",
          "text": []
        },
        {
          "output_type": "stream",
          "name": "stdout",
          "text": [
            "MoviePy - Done.\n",
            "Senjitaley Video  Sivakarthikeyan  Anirudh  Latest Hit Song.mp4\n",
            "MoviePy - Writing audio in /content/Songs/Senjitaley Video  Sivakarthikeyan  Anirudh  Latest Hit Song.mp3\n"
          ]
        },
        {
          "output_type": "stream",
          "name": "stderr",
          "text": []
        },
        {
          "output_type": "stream",
          "name": "stdout",
          "text": [
            "MoviePy - Done.\n",
            "Inna Mylu (Unplugged).mp4\n",
            "MoviePy - Writing audio in /content/Songs/Inna Mylu (Unplugged).mp3\n"
          ]
        },
        {
          "output_type": "stream",
          "name": "stderr",
          "text": []
        },
        {
          "output_type": "stream",
          "name": "stdout",
          "text": [
            "MoviePy - Done.\n",
            "High Voltage.mp4\n",
            "MoviePy - Writing audio in /content/Songs/High Voltage.mp3\n"
          ]
        },
        {
          "output_type": "stream",
          "name": "stderr",
          "text": []
        },
        {
          "output_type": "stream",
          "name": "stdout",
          "text": [
            "MoviePy - Done.\n",
            "Kannai Namadhey - Gaana Bala.mp4\n",
            "MoviePy - Writing audio in /content/Songs/Kannai Namadhey - Gaana Bala.mp3\n"
          ]
        },
        {
          "output_type": "stream",
          "name": "stderr",
          "text": []
        },
        {
          "output_type": "stream",
          "name": "stdout",
          "text": [
            "MoviePy - Done.\n",
            "Soppanasundari Tamil Video  D Imman  Vikram Prabhu.mp4\n",
            "MoviePy - Writing audio in /content/Songs/Soppanasundari Tamil Video  D Imman  Vikram Prabhu.mp3\n"
          ]
        },
        {
          "output_type": "stream",
          "name": "stderr",
          "text": []
        },
        {
          "output_type": "stream",
          "name": "stdout",
          "text": [
            "MoviePy - Done.\n",
            "Loosu Penne - HD Video Song  லூசு பெண்ணே  Vallavan  Silambarasan  Nayanthara Yuvan Shankar Raja.mp4\n",
            "MoviePy - Writing audio in /content/Songs/Loosu Penne - HD Video Song  லூசு பெண்ணே  Vallavan  Silambarasan  Nayanthara Yuvan Shankar Raja.mp3\n"
          ]
        },
        {
          "output_type": "stream",
          "name": "stderr",
          "text": []
        },
        {
          "output_type": "stream",
          "name": "stdout",
          "text": [
            "MoviePy - Done.\n",
            "Azhagiya Tamil Magan Movie Songs HD  Kelamal Kaiyile video Song  Vijay  Shriya  AR Rahman.mp4\n",
            "MoviePy - Writing audio in /content/Songs/Azhagiya Tamil Magan Movie Songs HD  Kelamal Kaiyile video Song  Vijay  Shriya  AR Rahman.mp3\n"
          ]
        },
        {
          "output_type": "stream",
          "name": "stderr",
          "text": []
        },
        {
          "output_type": "stream",
          "name": "stdout",
          "text": [
            "MoviePy - Done.\n",
            "Pakkam Vanthu  Full Video Song  Kaththi  Vijay Samantha Ruth Prabhu  AR Murugadoss Anirudh.mp4\n",
            "MoviePy - Writing audio in /content/Songs/Pakkam Vanthu  Full Video Song  Kaththi  Vijay Samantha Ruth Prabhu  AR Murugadoss Anirudh.mp3\n"
          ]
        },
        {
          "output_type": "stream",
          "name": "stderr",
          "text": []
        },
        {
          "output_type": "stream",
          "name": "stdout",
          "text": [
            "MoviePy - Done.\n",
            "Nadigar Thilagam Video  Vikram Prabhu D Imman.mp4\n",
            "MoviePy - Writing audio in /content/Songs/Nadigar Thilagam Video  Vikram Prabhu D Imman.mp3\n"
          ]
        },
        {
          "output_type": "stream",
          "name": "stderr",
          "text": []
        },
        {
          "output_type": "stream",
          "name": "stdout",
          "text": [
            "MoviePy - Done.\n",
            "Jingunamani.mp4\n",
            "MoviePy - Writing audio in /content/Songs/Jingunamani.mp3\n"
          ]
        },
        {
          "output_type": "stream",
          "name": "stderr",
          "text": []
        },
        {
          "output_type": "stream",
          "name": "stdout",
          "text": [
            "MoviePy - Done.\n",
            "Kutty Pattas Music Video  Ashwin  Reba John  Venki  Santhosh Dhayanidhi  Sandy.mp4\n",
            "MoviePy - Writing audio in /content/Songs/Kutty Pattas Music Video  Ashwin  Reba John  Venki  Santhosh Dhayanidhi  Sandy.mp3\n"
          ]
        },
        {
          "output_type": "stream",
          "name": "stderr",
          "text": []
        },
        {
          "output_type": "stream",
          "name": "stdout",
          "text": [
            "MoviePy - Done.\n",
            "Velai Illa Pattadhaari D25 VIP - Udhungada Sangu  Full Video Song.mp4\n",
            "MoviePy - Writing audio in /content/Songs/Velai Illa Pattadhaari D25 VIP - Udhungada Sangu  Full Video Song.mp3\n"
          ]
        },
        {
          "output_type": "stream",
          "name": "stderr",
          "text": []
        },
        {
          "output_type": "stream",
          "name": "stdout",
          "text": [
            "MoviePy - Done.\n",
            "Devathai - Poojai  Vishal Shruti  Hari  Yuvan  Video Song.mp4\n",
            "MoviePy - Writing audio in /content/Songs/Devathai - Poojai  Vishal Shruti  Hari  Yuvan  Video Song.mp3\n"
          ]
        },
        {
          "output_type": "stream",
          "name": "stderr",
          "text": []
        },
        {
          "output_type": "stream",
          "name": "stdout",
          "text": [
            "MoviePy - Done.\n",
            "Love Panlama Video  STR  Dharan Kumar.mp4\n",
            "MoviePy - Writing audio in /content/Songs/Love Panlama Video  STR  Dharan Kumar.mp3\n"
          ]
        },
        {
          "output_type": "stream",
          "name": "stderr",
          "text": []
        },
        {
          "output_type": "stream",
          "name": "stdout",
          "text": [
            "MoviePy - Done.\n",
            "Sirikkalam Parakkalam - Kannum Kannum Kollaiyadithaal  Dulquer S Ritu V  Masala Coffee.mp4\n",
            "MoviePy - Writing audio in /content/Songs/Sirikkalam Parakkalam - Kannum Kannum Kollaiyadithaal  Dulquer S Ritu V  Masala Coffee.mp3\n"
          ]
        },
        {
          "output_type": "stream",
          "name": "stderr",
          "text": []
        },
        {
          "output_type": "stream",
          "name": "stdout",
          "text": [
            "MoviePy - Done.\n",
            "Kollathey Kollathey (Video Song) - Kolaigaran  Vijay Antony Ashima  Andrew Louis  Simon KKing.mp4\n",
            "MoviePy - Writing audio in /content/Songs/Kollathey Kollathey (Video Song) - Kolaigaran  Vijay Antony Ashima  Andrew Louis  Simon KKing.mp3\n"
          ]
        },
        {
          "output_type": "stream",
          "name": "stderr",
          "text": []
        },
        {
          "output_type": "stream",
          "name": "stdout",
          "text": [
            "MoviePy - Done.\n",
            "Papa Papa (From Bairavaa).mp4\n",
            "MoviePy - Writing audio in /content/Songs/Papa Papa (From Bairavaa).mp3\n"
          ]
        },
        {
          "output_type": "stream",
          "name": "stderr",
          "text": []
        },
        {
          "output_type": "stream",
          "name": "stdout",
          "text": [
            "MoviePy - Done.\n",
            "Seemaraja  Varum Aana Varaathu Full Video Song  Sivakarthikeyan Samantha  DImman  24AM Studios.mp4\n",
            "MoviePy - Writing audio in /content/Songs/Seemaraja  Varum Aana Varaathu Full Video Song  Sivakarthikeyan Samantha  DImman  24AM Studios.mp3\n"
          ]
        },
        {
          "output_type": "stream",
          "name": "stderr",
          "text": []
        },
        {
          "output_type": "stream",
          "name": "stdout",
          "text": [
            "MoviePy - Done.\n",
            "Nenjukulla Nee.mp4\n",
            "MoviePy - Writing audio in /content/Songs/Nenjukulla Nee.mp3\n"
          ]
        },
        {
          "output_type": "stream",
          "name": "stderr",
          "text": []
        },
        {
          "output_type": "stream",
          "name": "stdout",
          "text": [
            "MoviePy - Done.\n",
            "Kodana Kodi  Full Video Song  Saroja  Yuvan Shankar Raja  Venkat Prabhu.mp4\n",
            "MoviePy - Writing audio in /content/Songs/Kodana Kodi  Full Video Song  Saroja  Yuvan Shankar Raja  Venkat Prabhu.mp3\n"
          ]
        },
        {
          "output_type": "stream",
          "name": "stderr",
          "text": []
        },
        {
          "output_type": "stream",
          "name": "stdout",
          "text": [
            "MoviePy - Done.\n",
            "Scenu Scenu (From Sigaram Thodu).mp4\n",
            "MoviePy - Writing audio in /content/Songs/Scenu Scenu (From Sigaram Thodu).mp3\n"
          ]
        },
        {
          "output_type": "stream",
          "name": "stderr",
          "text": []
        },
        {
          "output_type": "stream",
          "name": "stdout",
          "text": [
            "MoviePy - Done.\n",
            "Yaar Ivan.mp4\n",
            "MoviePy - Writing audio in /content/Songs/Yaar Ivan.mp3\n"
          ]
        },
        {
          "output_type": "stream",
          "name": "stderr",
          "text": []
        },
        {
          "output_type": "stream",
          "name": "stdout",
          "text": [
            "MoviePy - Done.\n",
            "Amma Mela Sathiyam.mp4\n",
            "MoviePy - Writing audio in /content/Songs/Amma Mela Sathiyam.mp3\n"
          ]
        },
        {
          "output_type": "stream",
          "name": "stderr",
          "text": []
        },
        {
          "output_type": "stream",
          "name": "stdout",
          "text": [
            "MoviePy - Done.\n",
            "Aaluma Doluma Video  Ajith  Anirudh Ravichander.mp4\n",
            "MoviePy - Writing audio in /content/Songs/Aaluma Doluma Video  Ajith  Anirudh Ravichander.mp3\n"
          ]
        },
        {
          "output_type": "stream",
          "name": "stderr",
          "text": []
        },
        {
          "output_type": "stream",
          "name": "stdout",
          "text": [
            "MoviePy - Done.\n",
            "Annakili Nee Vaadi  4 Students Movie  Bharath  Gopika  Jassie Gift  Track Musics India.mp4\n",
            "MoviePy - Writing audio in /content/Songs/Annakili Nee Vaadi  4 Students Movie  Bharath  Gopika  Jassie Gift  Track Musics India.mp3\n"
          ]
        },
        {
          "output_type": "stream",
          "name": "stderr",
          "text": []
        },
        {
          "output_type": "stream",
          "name": "stdout",
          "text": [
            "MoviePy - Done.\n",
            "Title Track Video  Vijay Shruti Haasan  DSP.mp4\n",
            "MoviePy - Writing audio in /content/Songs/Title Track Video  Vijay Shruti Haasan  DSP.mp3\n"
          ]
        },
        {
          "output_type": "stream",
          "name": "stderr",
          "text": []
        },
        {
          "output_type": "stream",
          "name": "stdout",
          "text": [
            "MoviePy - Done.\n",
            "Poo Mudhal Pen Varai (From Theeratha Vilaiyattu Pillai).mp4\n",
            "MoviePy - Writing audio in /content/Songs/Poo Mudhal Pen Varai (From Theeratha Vilaiyattu Pillai).mp3\n"
          ]
        },
        {
          "output_type": "stream",
          "name": "stderr",
          "text": []
        },
        {
          "output_type": "stream",
          "name": "stdout",
          "text": [
            "MoviePy - Done.\n",
            "Bairavaa Video Songs  Pattaya Kelappu Video Song  Vijay Keerthy Suresh  Santhosh Narayanan.mp4\n",
            "MoviePy - Writing audio in /content/Songs/Bairavaa Video Songs  Pattaya Kelappu Video Song  Vijay Keerthy Suresh  Santhosh Narayanan.mp3\n"
          ]
        },
        {
          "output_type": "stream",
          "name": "stderr",
          "text": []
        },
        {
          "output_type": "stream",
          "name": "stdout",
          "text": [
            "MoviePy - Done.\n",
            "Pandi Naatu Kodi (From Jigarthanda).mp4\n",
            "MoviePy - Writing audio in /content/Songs/Pandi Naatu Kodi (From Jigarthanda).mp3\n"
          ]
        },
        {
          "output_type": "stream",
          "name": "stderr",
          "text": []
        },
        {
          "output_type": "stream",
          "name": "stdout",
          "text": [
            "MoviePy - Done.\n",
            "Minnalai Pidithu Song - Shajahan Tamil Movie  Vijay  Richa Pallod  Unni Menon  Mani Sharma.mp4\n",
            "MoviePy - Writing audio in /content/Songs/Minnalai Pidithu Song - Shajahan Tamil Movie  Vijay  Richa Pallod  Unni Menon  Mani Sharma.mp3\n"
          ]
        },
        {
          "output_type": "stream",
          "name": "stderr",
          "text": []
        },
        {
          "output_type": "stream",
          "name": "stdout",
          "text": [
            "MoviePy - Done.\n",
            "Allah (From Ninaithale Inikkum).mp4\n",
            "MoviePy - Writing audio in /content/Songs/Allah (From Ninaithale Inikkum).mp3\n"
          ]
        },
        {
          "output_type": "stream",
          "name": "stderr",
          "text": []
        },
        {
          "output_type": "stream",
          "name": "stdout",
          "text": [
            "MoviePy - Done.\n",
            "Oru Kal Oru Kannadi Song 4K  YUVAN MOVIE VERSION 4K  Siva Manasula Sakthi Songs 4K  4KTAMIL.mp4\n",
            "MoviePy - Writing audio in /content/Songs/Oru Kal Oru Kannadi Song 4K  YUVAN MOVIE VERSION 4K  Siva Manasula Sakthi Songs 4K  4KTAMIL.mp3\n"
          ]
        },
        {
          "output_type": "stream",
          "name": "stderr",
          "text": []
        },
        {
          "output_type": "stream",
          "name": "stdout",
          "text": [
            "MoviePy - Done.\n",
            "Sarkar - Top Tucker Official Video  Thalapathy Vijay  @ARRahman   AR Murugadoss.mp4\n",
            "MoviePy - Writing audio in /content/Songs/Sarkar - Top Tucker Official Video  Thalapathy Vijay  @ARRahman   AR Murugadoss.mp3\n"
          ]
        },
        {
          "output_type": "stream",
          "name": "stderr",
          "text": []
        },
        {
          "output_type": "stream",
          "name": "stdout",
          "text": [
            "MoviePy - Done.\n",
            "Billa songs  Tamil HD video Songs  My Name Is Billa Video Song  AjithNayanathara  Billa Movie.mp4\n",
            "MoviePy - Writing audio in /content/Songs/Billa songs  Tamil HD video Songs  My Name Is Billa Video Song  AjithNayanathara  Billa Movie.mp3\n"
          ]
        },
        {
          "output_type": "stream",
          "name": "stderr",
          "text": []
        },
        {
          "output_type": "stream",
          "name": "stdout",
          "text": [
            "MoviePy - Done.\n",
            "Arabic Kuthu  Halamithi Habibo -Lyric Video Beast Thalapathy Vijay Sun Pictures Nelson Anirudh.mp4\n",
            "MoviePy - Writing audio in /content/Songs/Arabic Kuthu  Halamithi Habibo -Lyric Video Beast Thalapathy Vijay Sun Pictures Nelson Anirudh.mp3\n"
          ]
        },
        {
          "output_type": "stream",
          "name": "stderr",
          "text": []
        },
        {
          "output_type": "stream",
          "name": "stdout",
          "text": [
            "MoviePy - Done.\n",
            "Pachchai Vanna Video  Gautham Karthik Priya Anand.mp4\n",
            "MoviePy - Writing audio in /content/Songs/Pachchai Vanna Video  Gautham Karthik Priya Anand.mp3\n"
          ]
        },
        {
          "output_type": "stream",
          "name": "stderr",
          "text": []
        },
        {
          "output_type": "stream",
          "name": "stdout",
          "text": [
            "MoviePy - Done.\n",
            "Polladha Ulagam.mp4\n",
            "MoviePy - Writing audio in /content/Songs/Polladha Ulagam.mp3\n"
          ]
        },
        {
          "output_type": "stream",
          "name": "stderr",
          "text": []
        },
        {
          "output_type": "stream",
          "name": "stdout",
          "text": [
            "MoviePy - Done.\n",
            "Thanjavoor Jilla Kaari Video  Mani Sharma.mp4\n",
            "MoviePy - Writing audio in /content/Songs/Thanjavoor Jilla Kaari Video  Mani Sharma.mp3\n"
          ]
        },
        {
          "output_type": "stream",
          "name": "stderr",
          "text": []
        },
        {
          "output_type": "stream",
          "name": "stdout",
          "text": [
            "MoviePy - Done.\n",
            "Selfie Pulla.mp4\n",
            "MoviePy - Writing audio in /content/Songs/Selfie Pulla.mp3\n"
          ]
        },
        {
          "output_type": "stream",
          "name": "stderr",
          "text": []
        },
        {
          "output_type": "stream",
          "name": "stdout",
          "text": [
            "MoviePy - Done.\n",
            "Shoot the Kuruvi.mp4\n",
            "MoviePy - Writing audio in /content/Songs/Shoot the Kuruvi.mp3\n"
          ]
        },
        {
          "output_type": "stream",
          "name": "stderr",
          "text": []
        },
        {
          "output_type": "stream",
          "name": "stdout",
          "text": [
            "MoviePy - Done.\n",
            "Google Google.mp4\n",
            "MoviePy - Writing audio in /content/Songs/Google Google.mp3\n"
          ]
        },
        {
          "output_type": "stream",
          "name": "stderr",
          "text": []
        },
        {
          "output_type": "stream",
          "name": "stdout",
          "text": [
            "MoviePy - Done.\n",
            "Pudichiruka Illa Pudikalaya (From Kalakalappu 2).mp4\n",
            "MoviePy - Writing audio in /content/Songs/Pudichiruka Illa Pudikalaya (From Kalakalappu 2).mp3\n"
          ]
        },
        {
          "output_type": "stream",
          "name": "stderr",
          "text": []
        },
        {
          "output_type": "stream",
          "name": "stdout",
          "text": [
            "MoviePy - Done.\n",
            "Salim  Siva Sambo  Tamil Movie Full video song.mp4\n",
            "MoviePy - Writing audio in /content/Songs/Salim  Siva Sambo  Tamil Movie Full video song.mp3\n"
          ]
        },
        {
          "output_type": "stream",
          "name": "stderr",
          "text": []
        },
        {
          "output_type": "stream",
          "name": "stdout",
          "text": [
            "MoviePy - Done.\n",
            "Idhu Varai Video.mp4\n",
            "MoviePy - Writing audio in /content/Songs/Idhu Varai Video.mp3\n"
          ]
        },
        {
          "output_type": "stream",
          "name": "stderr",
          "text": []
        },
        {
          "output_type": "stream",
          "name": "stdout",
          "text": [
            "MoviePy - Done.\n",
            "Mavanae Yaarukittae.mp4\n",
            "MoviePy - Writing audio in /content/Songs/Mavanae Yaarukittae.mp3\n"
          ]
        },
        {
          "output_type": "stream",
          "name": "stderr",
          "text": []
        },
        {
          "output_type": "stream",
          "name": "stdout",
          "text": [
            "MoviePy - Done.\n",
            "Manmatha Raasa Video Song - Thiruda Thirudi  Dhanush Chaya Singh  Dhina.mp4\n",
            "MoviePy - Writing audio in /content/Songs/Manmatha Raasa Video Song - Thiruda Thirudi  Dhanush Chaya Singh  Dhina.mp3\n"
          ]
        },
        {
          "output_type": "stream",
          "name": "stderr",
          "text": []
        },
        {
          "output_type": "stream",
          "name": "stdout",
          "text": [
            "MoviePy - Done.\n",
            "Polakattum Para Para.mp4\n",
            "MoviePy - Writing audio in /content/Songs/Polakattum Para Para.mp3\n"
          ]
        },
        {
          "output_type": "stream",
          "name": "stderr",
          "text": []
        },
        {
          "output_type": "stream",
          "name": "stdout",
          "text": [
            "MoviePy - Done.\n",
            "Waale Waale official Full Song HD.mp4\n",
            "MoviePy - Writing audio in /content/Songs/Waale Waale official Full Song HD.mp3\n"
          ]
        },
        {
          "output_type": "stream",
          "name": "stderr",
          "text": []
        },
        {
          "output_type": "stream",
          "name": "stdout",
          "text": [
            "MoviePy - Done.\n",
            "Billa Video songs  Billa Songs  Vethalaya Potendi Video Song  Ajith  Nayanthara  Yuvan Songs.mp4\n",
            "MoviePy - Writing audio in /content/Songs/Billa Video songs  Billa Songs  Vethalaya Potendi Video Song  Ajith  Nayanthara  Yuvan Songs.mp3\n"
          ]
        },
        {
          "output_type": "stream",
          "name": "stderr",
          "text": []
        },
        {
          "output_type": "stream",
          "name": "stdout",
          "text": [
            "MoviePy - Done.\n",
            "Hey Unnathan Song  Kanna Laddu Thinna Aasaiya Movie Song  Santhanam  Srinivasan  Sethu  Vishaka.mp4\n",
            "MoviePy - Writing audio in /content/Songs/Hey Unnathan Song  Kanna Laddu Thinna Aasaiya Movie Song  Santhanam  Srinivasan  Sethu  Vishaka.mp3\n"
          ]
        },
        {
          "output_type": "stream",
          "name": "stderr",
          "text": []
        },
        {
          "output_type": "stream",
          "name": "stdout",
          "text": [
            "MoviePy - Done.\n",
            "Machi Open the Bottle.mp4\n",
            "MoviePy - Writing audio in /content/Songs/Machi Open the Bottle.mp3\n"
          ]
        },
        {
          "output_type": "stream",
          "name": "stderr",
          "text": []
        },
        {
          "output_type": "stream",
          "name": "stdout",
          "text": [
            "MoviePy - Done.\n",
            "Paiya - Suthuthey Video  Karthi Tamannah  Yuvan Shankar Raja.mp4\n",
            "MoviePy - Writing audio in /content/Songs/Paiya - Suthuthey Video  Karthi Tamannah  Yuvan Shankar Raja.mp3\n"
          ]
        },
        {
          "output_type": "stream",
          "name": "stderr",
          "text": []
        },
        {
          "output_type": "stream",
          "name": "stdout",
          "text": [
            "MoviePy - Done.\n",
            "Karuppana Kaiyala Original   Thamirabarani HD.mp4\n",
            "MoviePy - Writing audio in /content/Songs/Karuppana Kaiyala Original   Thamirabarani HD.mp3\n"
          ]
        },
        {
          "output_type": "stream",
          "name": "stderr",
          "text": []
        },
        {
          "output_type": "stream",
          "name": "stdout",
          "text": [
            "MoviePy - Done.\n",
            "Villu  Daddy Mummy - Video Song  Vijay  Prabhudeva  Devi Sri Prasad  Ayngaran.mp4\n",
            "MoviePy - Writing audio in /content/Songs/Villu  Daddy Mummy - Video Song  Vijay  Prabhudeva  Devi Sri Prasad  Ayngaran.mp3\n"
          ]
        },
        {
          "output_type": "stream",
          "name": "stderr",
          "text": []
        },
        {
          "output_type": "stream",
          "name": "stdout",
          "text": [
            "MoviePy - Done.\n",
            "Osthe Maamey.mp4\n",
            "MoviePy - Writing audio in /content/Songs/Osthe Maamey.mp3\n"
          ]
        },
        {
          "output_type": "stream",
          "name": "stderr",
          "text": []
        },
        {
          "output_type": "stream",
          "name": "stdout",
          "text": [
            "MoviePy - Done.\n",
            "Vaathi Coming.mp4\n",
            "MoviePy - Writing audio in /content/Songs/Vaathi Coming.mp3\n"
          ]
        },
        {
          "output_type": "stream",
          "name": "stderr",
          "text": []
        },
        {
          "output_type": "stream",
          "name": "stdout",
          "text": [
            "MoviePy - Done.\n",
            "Madras To Madurai - Official Video Song  Aambala  Vishal  Sundar C  Hip Hop Tamizha.mp4\n",
            "MoviePy - Writing audio in /content/Songs/Madras To Madurai - Official Video Song  Aambala  Vishal  Sundar C  Hip Hop Tamizha.mp3\n"
          ]
        },
        {
          "output_type": "stream",
          "name": "stderr",
          "text": []
        },
        {
          "output_type": "stream",
          "name": "stdout",
          "text": [
            "MoviePy - Done.\n",
            "Thaakka Thaakka.mp4\n",
            "MoviePy - Writing audio in /content/Songs/Thaakka Thaakka.mp3\n"
          ]
        },
        {
          "output_type": "stream",
          "name": "stderr",
          "text": []
        },
        {
          "output_type": "stream",
          "name": "stdout",
          "text": [
            "MoviePy - Done.\n",
            "Damakku Damakku.mp4\n",
            "MoviePy - Writing audio in /content/Songs/Damakku Damakku.mp3\n"
          ]
        },
        {
          "output_type": "stream",
          "name": "stderr",
          "text": []
        },
        {
          "output_type": "stream",
          "name": "stdout",
          "text": [
            "MoviePy - Done.\n",
            "Adiyae Ivalaey Video  Jayam Ravi Hansika  D Imman.mp4\n",
            "MoviePy - Writing audio in /content/Songs/Adiyae Ivalaey Video  Jayam Ravi Hansika  D Imman.mp3\n"
          ]
        },
        {
          "output_type": "stream",
          "name": "stderr",
          "text": []
        },
        {
          "output_type": "stream",
          "name": "stdout",
          "text": [
            "MoviePy - Done.\n",
            "Yennamma Ippadi Panreengalaema (From Rajinimurugan).mp4\n",
            "MoviePy - Writing audio in /content/Songs/Yennamma Ippadi Panreengalaema (From Rajinimurugan).mp3\n"
          ]
        },
        {
          "output_type": "stream",
          "name": "stderr",
          "text": []
        },
        {
          "output_type": "stream",
          "name": "stdout",
          "text": [
            "MoviePy - Done.\n",
            "Pokkiri  Scenes  Vasantha Mullai Video Song  Pokkiri Video songs  Vijay  Asin  Vijay Dance.mp4\n",
            "MoviePy - Writing audio in /content/Songs/Pokkiri  Scenes  Vasantha Mullai Video Song  Pokkiri Video songs  Vijay  Asin  Vijay Dance.mp3\n"
          ]
        },
        {
          "output_type": "stream",
          "name": "stderr",
          "text": []
        },
        {
          "output_type": "stream",
          "name": "stdout",
          "text": [
            "MoviePy - Done.\n",
            "Anantham Anantham  ( Poove Unnakagha ).mp4\n",
            "MoviePy - Writing audio in /content/Songs/Anantham Anantham  ( Poove Unnakagha ).mp3\n"
          ]
        },
        {
          "output_type": "stream",
          "name": "stderr",
          "text": []
        },
        {
          "output_type": "stream",
          "name": "stdout",
          "text": [
            "MoviePy - Done.\n",
            "Talku Lessu Worku Moreu Video  Shanthnu Bhagyaraj Athulya Ravi.mp4\n",
            "MoviePy - Writing audio in /content/Songs/Talku Lessu Worku Moreu Video  Shanthnu Bhagyaraj Athulya Ravi.mp3\n"
          ]
        },
        {
          "output_type": "stream",
          "name": "stderr",
          "text": []
        },
        {
          "output_type": "stream",
          "name": "stdout",
          "text": [
            "MoviePy - Done.\n",
            "Kadhal Yaanai - HD Video Song  Anniyan  Vikram  Shankar  Harris Jayaraj  Ayngaran.mp4\n",
            "MoviePy - Writing audio in /content/Songs/Kadhal Yaanai - HD Video Song  Anniyan  Vikram  Shankar  Harris Jayaraj  Ayngaran.mp3\n"
          ]
        },
        {
          "output_type": "stream",
          "name": "stderr",
          "text": []
        },
        {
          "output_type": "stream",
          "name": "stdout",
          "text": [
            "MoviePy - Done.\n",
            "Alaika Laika Video Song  Thuppakki  Harris Jayaraj  Vijay  Kajal Aggarwal.mp4\n",
            "MoviePy - Writing audio in /content/Songs/Alaika Laika Video Song  Thuppakki  Harris Jayaraj  Vijay  Kajal Aggarwal.mp3\n"
          ]
        },
        {
          "output_type": "stream",
          "name": "stderr",
          "text": []
        },
        {
          "output_type": "stream",
          "name": "stdout",
          "text": [
            "MoviePy - Done.\n",
            "Ammadi Un Azhagu Video  Vikram Prabhu D Imman.mp4\n",
            "MoviePy - Writing audio in /content/Songs/Ammadi Un Azhagu Video  Vikram Prabhu D Imman.mp3\n"
          ]
        },
        {
          "output_type": "stream",
          "name": "stderr",
          "text": []
        },
        {
          "output_type": "stream",
          "name": "stdout",
          "text": [
            "MoviePy - Done.\n",
            "Damukaatlaan Dumukaatalaa (From Koditta Idangalai Nirappuga).mp4\n",
            "MoviePy - Writing audio in /content/Songs/Damukaatlaan Dumukaatalaa (From Koditta Idangalai Nirappuga).mp3\n"
          ]
        },
        {
          "output_type": "stream",
          "name": "stderr",
          "text": []
        },
        {
          "output_type": "stream",
          "name": "stdout",
          "text": [
            "MoviePy - Done.\n",
            "Sooda Oru Sooriyan - Sathriyan  Video Song  Yuvan Shankar Raja  Vikram Prabhu Manjima Mohan.mp4\n",
            "MoviePy - Writing audio in /content/Songs/Sooda Oru Sooriyan - Sathriyan  Video Song  Yuvan Shankar Raja  Vikram Prabhu Manjima Mohan.mp3\n"
          ]
        },
        {
          "output_type": "stream",
          "name": "stderr",
          "text": []
        },
        {
          "output_type": "stream",
          "name": "stdout",
          "text": [
            "MoviePy - Done.\n",
            "I Want a Girl.mp4\n",
            "MoviePy - Writing audio in /content/Songs/I Want a Girl.mp3\n"
          ]
        },
        {
          "output_type": "stream",
          "name": "stderr",
          "text": []
        },
        {
          "output_type": "stream",
          "name": "stdout",
          "text": [
            "MoviePy - Done.\n",
            "Yellae Lama Video  Suriya Shruti  Harris Jayaraj.mp4\n",
            "MoviePy - Writing audio in /content/Songs/Yellae Lama Video  Suriya Shruti  Harris Jayaraj.mp3\n"
          ]
        },
        {
          "output_type": "stream",
          "name": "stderr",
          "text": []
        },
        {
          "output_type": "stream",
          "name": "stdout",
          "text": [
            "MoviePy - Done.\n",
            "Kattu Kattu Video Song  Thirupaachi Tamil Movie  Vijay  Trisha  Devi Sri Prasad  Perarasu.mp4\n",
            "MoviePy - Writing audio in /content/Songs/Kattu Kattu Video Song  Thirupaachi Tamil Movie  Vijay  Trisha  Devi Sri Prasad  Perarasu.mp3\n"
          ]
        },
        {
          "output_type": "stream",
          "name": "stderr",
          "text": []
        },
        {
          "output_type": "stream",
          "name": "stdout",
          "text": [
            "MoviePy - Done.\n",
            "CEO in the House - Telugu.mp4\n",
            "MoviePy - Writing audio in /content/Songs/CEO in the House - Telugu.mp3\n"
          ]
        },
        {
          "output_type": "stream",
          "name": "stderr",
          "text": []
        },
        {
          "output_type": "stream",
          "name": "stdout",
          "text": [
            "MoviePy - Done.\n",
            "Mudinja Ivana Pudi  Essaalaama 2K Video Song  Kiccha Sudeepa   Nithya Menen  KS Ravikumar.mp4\n",
            "MoviePy - Writing audio in /content/Songs/Mudinja Ivana Pudi  Essaalaama 2K Video Song  Kiccha Sudeepa   Nithya Menen  KS Ravikumar.mp3\n"
          ]
        },
        {
          "output_type": "stream",
          "name": "stderr",
          "text": []
        },
        {
          "output_type": "stream",
          "name": "stdout",
          "text": [
            "MoviePy - Done.\n",
            "Sottavaala.mp4\n",
            "MoviePy - Writing audio in /content/Songs/Sottavaala.mp3\n"
          ]
        },
        {
          "output_type": "stream",
          "name": "stderr",
          "text": []
        },
        {
          "output_type": "stream",
          "name": "stdout",
          "text": [
            "MoviePy - Done.\n",
            "Venmathi Venmathiye Official Video  Minnale  Harris Jayaraj  Madhavan  Gautham V Menon.mp4\n",
            "MoviePy - Writing audio in /content/Songs/Venmathi Venmathiye Official Video  Minnale  Harris Jayaraj  Madhavan  Gautham V Menon.mp3\n"
          ]
        },
        {
          "output_type": "stream",
          "name": "stderr",
          "text": []
        },
        {
          "output_type": "stream",
          "name": "stdout",
          "text": [
            "MoviePy - Done.\n",
            "Edhirthu Nill (From Biriyani).mp4\n",
            "MoviePy - Writing audio in /content/Songs/Edhirthu Nill (From Biriyani).mp3\n"
          ]
        },
        {
          "output_type": "stream",
          "name": "stderr",
          "text": []
        },
        {
          "output_type": "stream",
          "name": "stdout",
          "text": [
            "MoviePy - Done.\n",
            "Yeppa Maama Treatu.mp4\n",
            "MoviePy - Writing audio in /content/Songs/Yeppa Maama Treatu.mp3\n"
          ]
        },
        {
          "output_type": "stream",
          "name": "stderr",
          "text": []
        },
        {
          "output_type": "stream",
          "name": "stdout",
          "text": [
            "MoviePy - Done.\n",
            "Glamour Song.mp4\n",
            "MoviePy - Writing audio in /content/Songs/Glamour Song.mp3\n"
          ]
        },
        {
          "output_type": "stream",
          "name": "stderr",
          "text": []
        },
        {
          "output_type": "stream",
          "name": "stdout",
          "text": [
            "MoviePy - Done.\n",
            "Rajapattai Movie Songs  Villathi Villangal  Vikram Deeksha Seth K Viswanath.mp4\n",
            "MoviePy - Writing audio in /content/Songs/Rajapattai Movie Songs  Villathi Villangal  Vikram Deeksha Seth K Viswanath.mp3\n"
          ]
        },
        {
          "output_type": "stream",
          "name": "stderr",
          "text": []
        },
        {
          "output_type": "stream",
          "name": "stdout",
          "text": [
            "MoviePy - Done.\n",
            "Kadhal kasakkuthaiya Video Song  Aan Paavam Movie Video Song   Ilaiyaraaja Music  Vaali  JDMusic.mp4\n",
            "MoviePy - Writing audio in /content/Songs/Kadhal kasakkuthaiya Video Song  Aan Paavam Movie Video Song   Ilaiyaraaja Music  Vaali  JDMusic.mp3\n"
          ]
        },
        {
          "output_type": "stream",
          "name": "stderr",
          "text": []
        },
        {
          "output_type": "stream",
          "name": "stdout",
          "text": [
            "MoviePy - Done.\n",
            "Oru Ponna Parthein Mama Official Video  Full HD  India Pakistan  Vijay Antony Sushma Raj.mp4\n",
            "MoviePy - Writing audio in /content/Songs/Oru Ponna Parthein Mama Official Video  Full HD  India Pakistan  Vijay Antony Sushma Raj.mp3\n"
          ]
        },
        {
          "output_type": "stream",
          "name": "stderr",
          "text": []
        },
        {
          "output_type": "stream",
          "name": "stdout",
          "text": [
            "MoviePy - Done.\n",
            "Oru Kuchi Oru Kulfi TheSelfieSong (From Kalakalappu 2).mp4\n",
            "MoviePy - Writing audio in /content/Songs/Oru Kuchi Oru Kulfi TheSelfieSong (From Kalakalappu 2).mp3\n"
          ]
        },
        {
          "output_type": "stream",
          "name": "stderr",
          "text": []
        },
        {
          "output_type": "stream",
          "name": "stdout",
          "text": [
            "MoviePy - Done.\n",
            "Im So Cool - Kaaki Sattai  Official Video Song  Sivakarthikeyan  Anirudh.mp4\n",
            "MoviePy - Writing audio in /content/Songs/Im So Cool - Kaaki Sattai  Official Video Song  Sivakarthikeyan  Anirudh.mp3\n"
          ]
        },
        {
          "output_type": "stream",
          "name": "stderr",
          "text": []
        },
        {
          "output_type": "stream",
          "name": "stdout",
          "text": [
            "MoviePy - Done.\n",
            "Chella Kutti.mp4\n",
            "MoviePy - Writing audio in /content/Songs/Chella Kutti.mp3\n"
          ]
        },
        {
          "output_type": "stream",
          "name": "stderr",
          "text": []
        },
        {
          "output_type": "stream",
          "name": "stdout",
          "text": [
            "MoviePy - Done.\n",
            "Aaravalli.mp4\n",
            "MoviePy - Writing audio in /content/Songs/Aaravalli.mp3\n"
          ]
        },
        {
          "output_type": "stream",
          "name": "stderr",
          "text": []
        },
        {
          "output_type": "stream",
          "name": "stdout",
          "text": [
            "MoviePy - Done.\n",
            "Pazhagikalam - Aambala  Full Video Song  Vishal Hansika  Hiphop Tamizha.mp4\n",
            "MoviePy - Writing audio in /content/Songs/Pazhagikalam - Aambala  Full Video Song  Vishal Hansika  Hiphop Tamizha.mp3\n"
          ]
        },
        {
          "output_type": "stream",
          "name": "stderr",
          "text": []
        },
        {
          "output_type": "stream",
          "name": "stdout",
          "text": [
            "MoviePy - Done.\n",
            "Unnai Paartha Pinbu NaanVideo Song  Kadhal Mannan  Ajith Kumar Maanu  Romantic Tamil Song.mp4\n",
            "MoviePy - Writing audio in /content/Songs/Unnai Paartha Pinbu NaanVideo Song  Kadhal Mannan  Ajith Kumar Maanu  Romantic Tamil Song.mp3\n"
          ]
        },
        {
          "output_type": "stream",
          "name": "stderr",
          "text": []
        },
        {
          "output_type": "stream",
          "name": "stdout",
          "text": [
            "MoviePy - Done.\n",
            "Aasaiye Alai Poley Song  Kanna Laddu Thinna Aasaiya Movie Songs  Santhanam  Srinivasan  Sethu.mp4\n",
            "MoviePy - Writing audio in /content/Songs/Aasaiye Alai Poley Song  Kanna Laddu Thinna Aasaiya Movie Songs  Santhanam  Srinivasan  Sethu.mp3\n"
          ]
        },
        {
          "output_type": "stream",
          "name": "stderr",
          "text": []
        },
        {
          "output_type": "stream",
          "name": "stdout",
          "text": [
            "MoviePy - Done.\n",
            "Sachien Tamil Movie Songs  Kanmoodi Thirakumbothu Full Video Song 4K  Vijay  Genelia  DSP.mp4\n",
            "MoviePy - Writing audio in /content/Songs/Sachien Tamil Movie Songs  Kanmoodi Thirakumbothu Full Video Song 4K  Vijay  Genelia  DSP.mp3\n"
          ]
        },
        {
          "output_type": "stream",
          "name": "stderr",
          "text": []
        },
        {
          "output_type": "stream",
          "name": "stdout",
          "text": [
            "MoviePy - Done.\n",
            "Kaadhal Suthudhe Video Song  Saravana  Silambarasan  Jyothika  Srikanth Deva  Think Tapes.mp4\n",
            "MoviePy - Writing audio in /content/Songs/Kaadhal Suthudhe Video Song  Saravana  Silambarasan  Jyothika  Srikanth Deva  Think Tapes.mp3\n"
          ]
        },
        {
          "output_type": "stream",
          "name": "stderr",
          "text": []
        },
        {
          "output_type": "stream",
          "name": "stdout",
          "text": [
            "MoviePy - Done.\n",
            "Vaada Thambi - Video Song  Etharkkum Thunindhavan  Suriya  Sun Pictures  Pandiraj  DImman.mp4\n",
            "MoviePy - Writing audio in /content/Songs/Vaada Thambi - Video Song  Etharkkum Thunindhavan  Suriya  Sun Pictures  Pandiraj  DImman.mp3\n"
          ]
        },
        {
          "output_type": "stream",
          "name": "stderr",
          "text": []
        },
        {
          "output_type": "stream",
          "name": "stdout",
          "text": [
            "MoviePy - Done.\n",
            "Yey Aatha Video Song  Malaikottai Tamil Movie  Vishal  Priyamani  Mani Sharma  Boopathy Pandian.mp4\n",
            "MoviePy - Writing audio in /content/Songs/Yey Aatha Video Song  Malaikottai Tamil Movie  Vishal  Priyamani  Mani Sharma  Boopathy Pandian.mp3\n"
          ]
        },
        {
          "output_type": "stream",
          "name": "stderr",
          "text": []
        },
        {
          "output_type": "stream",
          "name": "stdout",
          "text": [
            "MoviePy - Done.\n",
            "Unnai Kanda Naal - Video  Salim  Vijay Antony  Tamil  HD Songs.mp4\n",
            "MoviePy - Writing audio in /content/Songs/Unnai Kanda Naal - Video  Salim  Vijay Antony  Tamil  HD Songs.mp3\n"
          ]
        },
        {
          "output_type": "stream",
          "name": "stderr",
          "text": []
        },
        {
          "output_type": "stream",
          "name": "stdout",
          "text": [
            "MoviePy - Done.\n",
            "Machan Peru Madurey Video Song  Madurey Tamil Movie  Vijay  Sonia Agarwal  Vidyasagar.mp4\n",
            "MoviePy - Writing audio in /content/Songs/Machan Peru Madurey Video Song  Madurey Tamil Movie  Vijay  Sonia Agarwal  Vidyasagar.mp3\n"
          ]
        },
        {
          "output_type": "stream",
          "name": "stderr",
          "text": []
        },
        {
          "output_type": "stream",
          "name": "stdout",
          "text": [
            "MoviePy - Done.\n",
            "Ennodu Vaa (From Thirudan Police).mp4\n",
            "MoviePy - Writing audio in /content/Songs/Ennodu Vaa (From Thirudan Police).mp3\n"
          ]
        },
        {
          "output_type": "stream",
          "name": "stderr",
          "text": []
        },
        {
          "output_type": "stream",
          "name": "stdout",
          "text": [
            "MoviePy - Done.\n",
            "Feel My Love (From Kutty).mp4\n",
            "MoviePy - Writing audio in /content/Songs/Feel My Love (From Kutty).mp3\n"
          ]
        },
        {
          "output_type": "stream",
          "name": "stderr",
          "text": []
        },
        {
          "output_type": "stream",
          "name": "stdout",
          "text": [
            "MoviePy - Done.\n",
            "Un Mela Aasadhaan (From Aayirathil Oruvan).mp4\n",
            "MoviePy - Writing audio in /content/Songs/Un Mela Aasadhaan (From Aayirathil Oruvan).mp3\n"
          ]
        },
        {
          "output_type": "stream",
          "name": "stderr",
          "text": []
        },
        {
          "output_type": "stream",
          "name": "stdout",
          "text": [
            "MoviePy - Done.\n",
            "Aaniyae Pudunga Venandaa.mp4\n",
            "MoviePy - Writing audio in /content/Songs/Aaniyae Pudunga Venandaa.mp3\n"
          ]
        },
        {
          "output_type": "stream",
          "name": "stderr",
          "text": []
        },
        {
          "output_type": "stream",
          "name": "stdout",
          "text": [
            "MoviePy - Done.\n",
            "Yedho Maayam Saeigirai.mp4\n",
            "MoviePy - Writing audio in /content/Songs/Yedho Maayam Saeigirai.mp3\n"
          ]
        },
        {
          "output_type": "stream",
          "name": "stderr",
          "text": []
        },
        {
          "output_type": "stream",
          "name": "stdout",
          "text": [
            "MoviePy - Done.\n",
            "Takkaru Takkaru.mp4\n",
            "MoviePy - Writing audio in /content/Songs/Takkaru Takkaru.mp3\n"
          ]
        },
        {
          "output_type": "stream",
          "name": "stderr",
          "text": []
        },
        {
          "output_type": "stream",
          "name": "stdout",
          "text": [
            "MoviePy - Done.\n",
            "Oh Penne.mp4\n",
            "MoviePy - Writing audio in /content/Songs/Oh Penne.mp3\n"
          ]
        },
        {
          "output_type": "stream",
          "name": "stderr",
          "text": []
        },
        {
          "output_type": "stream",
          "name": "stdout",
          "text": [
            "MoviePy - Done.\n",
            "Neduvaali.mp4\n",
            "MoviePy - Writing audio in /content/Songs/Neduvaali.mp3\n"
          ]
        },
        {
          "output_type": "stream",
          "name": "stderr",
          "text": []
        },
        {
          "output_type": "stream",
          "name": "stdout",
          "text": [
            "MoviePy - Done.\n",
            "Irukkiraai.mp4\n",
            "MoviePy - Writing audio in /content/Songs/Irukkiraai.mp3\n"
          ]
        },
        {
          "output_type": "stream",
          "name": "stderr",
          "text": []
        },
        {
          "output_type": "stream",
          "name": "stdout",
          "text": [
            "MoviePy - Done.\n",
            "Enna Oru Enna Oru (From Pattatthu Yaanai).mp4\n",
            "MoviePy - Writing audio in /content/Songs/Enna Oru Enna Oru (From Pattatthu Yaanai).mp3\n"
          ]
        },
        {
          "output_type": "stream",
          "name": "stderr",
          "text": []
        },
        {
          "output_type": "stream",
          "name": "stdout",
          "text": [
            "MoviePy - Done.\n",
            "Karakudi Ilavarasi (From Kalakalappu 2).mp4\n",
            "MoviePy - Writing audio in /content/Songs/Karakudi Ilavarasi (From Kalakalappu 2).mp3\n"
          ]
        },
        {
          "output_type": "stream",
          "name": "stderr",
          "text": []
        },
        {
          "output_type": "stream",
          "name": "stdout",
          "text": [
            "MoviePy - Done.\n",
            "Two Two Two.mp4\n",
            "MoviePy - Writing audio in /content/Songs/Two Two Two.mp3\n"
          ]
        },
        {
          "output_type": "stream",
          "name": "stderr",
          "text": []
        },
        {
          "output_type": "stream",
          "name": "stdout",
          "text": [
            "MoviePy - Done.\n",
            "Paatha Oru Lookula Video  Santhanam Ashna Zaveri.mp4\n",
            "MoviePy - Writing audio in /content/Songs/Paatha Oru Lookula Video  Santhanam Ashna Zaveri.mp3\n"
          ]
        },
        {
          "output_type": "stream",
          "name": "stderr",
          "text": []
        },
        {
          "output_type": "stream",
          "name": "stdout",
          "text": [
            "MoviePy - Done.\n",
            "Yenna Solla Pore Video  Dhanush Tamannah  DSP.mp4\n",
            "MoviePy - Writing audio in /content/Songs/Yenna Solla Pore Video  Dhanush Tamannah  DSP.mp3\n"
          ]
        },
        {
          "output_type": "stream",
          "name": "stderr",
          "text": []
        },
        {
          "output_type": "stream",
          "name": "stdout",
          "text": [
            "MoviePy - Done.\n",
            "Jay Jay  Unnai Naan Official Video Song  RMadhavan  Amogha   Pooja.mp4\n",
            "MoviePy - Writing audio in /content/Songs/Jay Jay  Unnai Naan Official Video Song  RMadhavan  Amogha   Pooja.mp3\n"
          ]
        },
        {
          "output_type": "stream",
          "name": "stderr",
          "text": []
        },
        {
          "output_type": "stream",
          "name": "stdout",
          "text": [
            "MoviePy - Done.\n",
            "Anbe Anbe (From Darling).mp4\n",
            "MoviePy - Writing audio in /content/Songs/Anbe Anbe (From Darling).mp3\n"
          ]
        },
        {
          "output_type": "stream",
          "name": "stderr",
          "text": []
        },
        {
          "output_type": "stream",
          "name": "stdout",
          "text": [
            "MoviePy - Done.\n",
            "Heartile Battery  Nanban  2k Video  நண்பன்   Vijay Ileana Jiva Srikanth.mp4\n",
            "MoviePy - Writing audio in /content/Songs/Heartile Battery  Nanban  2k Video  நண்பன்   Vijay Ileana Jiva Srikanth.mp3\n"
          ]
        },
        {
          "output_type": "stream",
          "name": "stderr",
          "text": []
        },
        {
          "output_type": "stream",
          "name": "stdout",
          "text": [
            "MoviePy - Done.\n",
            "Mazhakaatha.mp4\n",
            "MoviePy - Writing audio in /content/Songs/Mazhakaatha.mp3\n"
          ]
        },
        {
          "output_type": "stream",
          "name": "stderr",
          "text": []
        },
        {
          "output_type": "stream",
          "name": "stdout",
          "text": [
            "MoviePy - Done.\n",
            "Takku Takku Video  Vikram Prabhu  D Imman.mp4\n",
            "MoviePy - Writing audio in /content/Songs/Takku Takku Video  Vikram Prabhu  D Imman.mp3\n"
          ]
        },
        {
          "output_type": "stream",
          "name": "stderr",
          "text": []
        },
        {
          "output_type": "stream",
          "name": "stdout",
          "text": [
            "MoviePy - Done.\n",
            "Antarctica Song Tamil Video Song  Thuppakki  Thalapathy Vijay Kajal Aggarwal  Harris Jayaraj.mp4\n",
            "MoviePy - Writing audio in /content/Songs/Antarctica Song Tamil Video Song  Thuppakki  Thalapathy Vijay Kajal Aggarwal  Harris Jayaraj.mp3\n"
          ]
        },
        {
          "output_type": "stream",
          "name": "stderr",
          "text": []
        },
        {
          "output_type": "stream",
          "name": "stdout",
          "text": [
            "MoviePy - Done.\n",
            "Unmela Aasapattu  Vazhthugal HD Video Song + HD Audio  MadhavanBhavana Yuvan Shankar Raja.mp4\n",
            "MoviePy - Writing audio in /content/Songs/Unmela Aasapattu  Vazhthugal HD Video Song + HD Audio  MadhavanBhavana Yuvan Shankar Raja.mp3\n"
          ]
        },
        {
          "output_type": "stream",
          "name": "stderr",
          "text": []
        },
        {
          "output_type": "stream",
          "name": "stdout",
          "text": [
            "MoviePy - Done.\n",
            "A Aa E Ee   Mena Minuki Song.mp4\n",
            "MoviePy - Writing audio in /content/Songs/A Aa E Ee   Mena Minuki Song.mp3\n"
          ]
        },
        {
          "output_type": "stream",
          "name": "stderr",
          "text": []
        },
        {
          "output_type": "stream",
          "name": "stdout",
          "text": [
            "MoviePy - Done.\n",
            "Jalsa Jalsa - Video Song  Villu  Vijay  Nayanthara  Prabhu Deva  Devi Sri Prasad  Ayngaran.mp4\n",
            "MoviePy - Writing audio in /content/Songs/Jalsa Jalsa - Video Song  Villu  Vijay  Nayanthara  Prabhu Deva  Devi Sri Prasad  Ayngaran.mp3\n"
          ]
        },
        {
          "output_type": "stream",
          "name": "stderr",
          "text": []
        },
        {
          "output_type": "stream",
          "name": "stdout",
          "text": [
            "MoviePy - Done.\n",
            "Nanban Movie Songs  Irukkana Idupu Irukkana   Star - VijayJiivaSrikanthIleana DCruz.mp4\n",
            "MoviePy - Writing audio in /content/Songs/Nanban Movie Songs  Irukkana Idupu Irukkana   Star - VijayJiivaSrikanthIleana DCruz.mp3\n"
          ]
        },
        {
          "output_type": "stream",
          "name": "stderr",
          "text": []
        },
        {
          "output_type": "stream",
          "name": "stdout",
          "text": [
            "MoviePy - Done.\n",
            "Nee Kobapattal Naanum - Video Song  Villu  Vijay  Nayanthara  Prabhu Deva  DSP  Ayngaran.mp4\n",
            "MoviePy - Writing audio in /content/Songs/Nee Kobapattal Naanum - Video Song  Villu  Vijay  Nayanthara  Prabhu Deva  DSP  Ayngaran.mp3\n"
          ]
        },
        {
          "output_type": "stream",
          "name": "stderr",
          "text": []
        },
        {
          "output_type": "stream",
          "name": "stdout",
          "text": [
            "MoviePy - Done.\n",
            "Kanne Kanne (From Ayogya).mp4\n",
            "MoviePy - Writing audio in /content/Songs/Kanne Kanne (From Ayogya).mp3\n"
          ]
        },
        {
          "output_type": "stream",
          "name": "stderr",
          "text": []
        },
        {
          "output_type": "stream",
          "name": "stdout",
          "text": [
            "MoviePy - Done.\n",
            "Kaakkaa Muttai Video  Vikram Prabhu D Imman.mp4\n",
            "MoviePy - Writing audio in /content/Songs/Kaakkaa Muttai Video  Vikram Prabhu D Imman.mp3\n"
          ]
        },
        {
          "output_type": "stream",
          "name": "stderr",
          "text": []
        },
        {
          "output_type": "stream",
          "name": "stdout",
          "text": [
            "MoviePy - Done.\n",
            "Orasaadha.mp4\n",
            "MoviePy - Writing audio in /content/Songs/Orasaadha.mp3\n"
          ]
        },
        {
          "output_type": "stream",
          "name": "stderr",
          "text": []
        },
        {
          "output_type": "stream",
          "name": "stdout",
          "text": [
            "MoviePy - Done.\n",
            "Verasa Pogayile Karoke Track.mp4\n",
            "MoviePy - Writing audio in /content/Songs/Verasa Pogayile Karoke Track.mp3\n"
          ]
        },
        {
          "output_type": "stream",
          "name": "stderr",
          "text": []
        },
        {
          "output_type": "stream",
          "name": "stdout",
          "text": [
            "MoviePy - Done.\n",
            "Appan Panna Video Song  Thirupaachi Tamil Movie  Vijay  Trisha  Dhina  Perarasu.mp4\n",
            "MoviePy - Writing audio in /content/Songs/Appan Panna Video Song  Thirupaachi Tamil Movie  Vijay  Trisha  Dhina  Perarasu.mp3\n"
          ]
        },
        {
          "output_type": "stream",
          "name": "stderr",
          "text": []
        },
        {
          "output_type": "stream",
          "name": "stdout",
          "text": [
            "MoviePy - Done.\n",
            "Eno Kangal.mp4\n",
            "MoviePy - Writing audio in /content/Songs/Eno Kangal.mp3\n"
          ]
        },
        {
          "output_type": "stream",
          "name": "stderr",
          "text": []
        },
        {
          "output_type": "stream",
          "name": "stdout",
          "text": [
            "MoviePy - Done.\n",
            "Maatikichu (From Meesaya Murukku).mp4\n",
            "MoviePy - Writing audio in /content/Songs/Maatikichu (From Meesaya Murukku).mp3\n"
          ]
        },
        {
          "output_type": "stream",
          "name": "stderr",
          "text": []
        },
        {
          "output_type": "stream",
          "name": "stdout",
          "text": [
            "MoviePy - Done.\n",
            "Naan Avanillai Tamil Movie  Song  Yean Enakku Video  Jeevan Sneha  Vijay Antony.mp4\n",
            "MoviePy - Writing audio in /content/Songs/Naan Avanillai Tamil Movie  Song  Yean Enakku Video  Jeevan Sneha  Vijay Antony.mp3\n"
          ]
        },
        {
          "output_type": "stream",
          "name": "stderr",
          "text": []
        },
        {
          "output_type": "stream",
          "name": "stdout",
          "text": [
            "MoviePy - Done.\n",
            "Kaathuvaakula Rendu Kaadhal - Dippam Dappam Lyric Vijay Sethupathi Anirudh Vignesh Shivan.mp4\n",
            "MoviePy - Writing audio in /content/Songs/Kaathuvaakula Rendu Kaadhal - Dippam Dappam Lyric Vijay Sethupathi Anirudh Vignesh Shivan.mp3\n"
          ]
        },
        {
          "output_type": "stream",
          "name": "stderr",
          "text": []
        },
        {
          "output_type": "stream",
          "name": "stdout",
          "text": [
            "MoviePy - Done.\n",
            "Mersalaayitten Video  AR Rahman  Vikram Amy Jackson  Sh.mp4\n",
            "MoviePy - Writing audio in /content/Songs/Mersalaayitten Video  AR Rahman  Vikram Amy Jackson  Sh.mp3\n"
          ]
        },
        {
          "output_type": "stream",
          "name": "stderr",
          "text": []
        },
        {
          "output_type": "stream",
          "name": "stdout",
          "text": [
            "MoviePy - Done.\n",
            "Paisa Note Video  Jayam Ravi Kajal Aggarwal  Hiphop Tamizha.mp4\n",
            "MoviePy - Writing audio in /content/Songs/Paisa Note Video  Jayam Ravi Kajal Aggarwal  Hiphop Tamizha.mp3\n"
          ]
        },
        {
          "output_type": "stream",
          "name": "stderr",
          "text": []
        },
        {
          "output_type": "stream",
          "name": "stdout",
          "text": [
            "MoviePy - Done.\n",
            "Sarkar  - OMG Ponnu Song Video (Tamil)  Thalapathy Vijay Keerthy Suresh  @ARRahman.mp4\n",
            "MoviePy - Writing audio in /content/Songs/Sarkar  - OMG Ponnu Song Video (Tamil)  Thalapathy Vijay Keerthy Suresh  @ARRahman.mp3\n"
          ]
        },
        {
          "output_type": "stream",
          "name": "stderr",
          "text": []
        },
        {
          "output_type": "stream",
          "name": "stdout",
          "text": [
            "MoviePy - Done.\n",
            "Azhage Azhage (From Oru Kal Oru Kannadi).mp4\n",
            "MoviePy - Writing audio in /content/Songs/Azhage Azhage (From Oru Kal Oru Kannadi).mp3\n"
          ]
        },
        {
          "output_type": "stream",
          "name": "stderr",
          "text": []
        },
        {
          "output_type": "stream",
          "name": "stdout",
          "text": [
            "MoviePy - Done.\n",
            "Oh Shala Oh Shala (From Kaadhal Solla Vandhen).mp4\n",
            "MoviePy - Writing audio in /content/Songs/Oh Shala Oh Shala (From Kaadhal Solla Vandhen).mp3\n"
          ]
        },
        {
          "output_type": "stream",
          "name": "stderr",
          "text": []
        },
        {
          "output_type": "stream",
          "name": "stdout",
          "text": [
            "MoviePy - Done.\n",
            "Ur My Darling.mp4\n",
            "MoviePy - Writing audio in /content/Songs/Ur My Darling.mp3\n"
          ]
        },
        {
          "output_type": "stream",
          "name": "stderr",
          "text": []
        },
        {
          "output_type": "stream",
          "name": "stdout",
          "text": [
            "MoviePy - Done.\n",
            "Vaanam Tamil Movie Songs HD  No Money No Honey Video Song  Simbu  Anushka  Yuvan Shankar Raja.mp4\n",
            "MoviePy - Writing audio in /content/Songs/Vaanam Tamil Movie Songs HD  No Money No Honey Video Song  Simbu  Anushka  Yuvan Shankar Raja.mp3\n"
          ]
        },
        {
          "output_type": "stream",
          "name": "stderr",
          "text": []
        },
        {
          "output_type": "stream",
          "name": "stdout",
          "text": [
            "MoviePy - Done.\n",
            "Thuli Thuli Video  Karthi Tamannah  Yuvan Shankar Raja.mp4\n",
            "MoviePy - Writing audio in /content/Songs/Thuli Thuli Video  Karthi Tamannah  Yuvan Shankar Raja.mp3\n"
          ]
        },
        {
          "output_type": "stream",
          "name": "stderr",
          "text": []
        },
        {
          "output_type": "stream",
          "name": "stdout",
          "text": [
            "MoviePy - Done.\n",
            "Breakup Song.mp4\n",
            "MoviePy - Writing audio in /content/Songs/Breakup Song.mp3\n"
          ]
        },
        {
          "output_type": "stream",
          "name": "stderr",
          "text": []
        },
        {
          "output_type": "stream",
          "name": "stdout",
          "text": [
            "MoviePy - Done.\n",
            "Top Tucker (feat Rashmika Mandanna).mp4\n",
            "MoviePy - Writing audio in /content/Songs/Top Tucker (feat Rashmika Mandanna).mp3\n"
          ]
        },
        {
          "output_type": "stream",
          "name": "stderr",
          "text": []
        },
        {
          "output_type": "stream",
          "name": "stdout",
          "text": [
            "MoviePy - Done.\n",
            "High On Love.mp4\n",
            "MoviePy - Writing audio in /content/Songs/High On Love.mp3\n"
          ]
        },
        {
          "output_type": "stream",
          "name": "stderr",
          "text": []
        },
        {
          "output_type": "stream",
          "name": "stdout",
          "text": [
            "MoviePy - Done.\n",
            "Macha Kannai.mp4\n",
            "MoviePy - Writing audio in /content/Songs/Macha Kannai.mp3\n"
          ]
        },
        {
          "output_type": "stream",
          "name": "stderr",
          "text": []
        },
        {
          "output_type": "stream",
          "name": "stdout",
          "text": [
            "MoviePy - Done.\n",
            "Nijamellam Maranthupochu (From Ethir Neechal).mp4\n",
            "MoviePy - Writing audio in /content/Songs/Nijamellam Maranthupochu (From Ethir Neechal).mp3\n"
          ]
        },
        {
          "output_type": "stream",
          "name": "stderr",
          "text": []
        },
        {
          "output_type": "stream",
          "name": "stdout",
          "text": [
            "MoviePy - Done.\n",
            "Nahna Na Nah (From Biriyani).mp4\n",
            "MoviePy - Writing audio in /content/Songs/Nahna Na Nah (From Biriyani).mp3\n"
          ]
        },
        {
          "output_type": "stream",
          "name": "stderr",
          "text": []
        },
        {
          "output_type": "stream",
          "name": "stdout",
          "text": [
            "MoviePy - Done.\n",
            "Aathadi Aathadi.mp4\n",
            "MoviePy - Writing audio in /content/Songs/Aathadi Aathadi.mp3\n"
          ]
        },
        {
          "output_type": "stream",
          "name": "stderr",
          "text": []
        },
        {
          "output_type": "stream",
          "name": "stdout",
          "text": [
            "MoviePy - Done.\n",
            "Kuru Kuru - Video song  Vathikuchi  Anjali Dhileban  ARMurugadoss  Ghibran  Fox Star Studios.mp4\n",
            "MoviePy - Writing audio in /content/Songs/Kuru Kuru - Video song  Vathikuchi  Anjali Dhileban  ARMurugadoss  Ghibran  Fox Star Studios.mp3\n"
          ]
        },
        {
          "output_type": "stream",
          "name": "stderr",
          "text": []
        },
        {
          "output_type": "stream",
          "name": "stdout",
          "text": [
            "MoviePy - Done.\n",
            "Asku Laska Nanban  Movie Songs  2k Video  நண்பன்  Vijay Ileana Jiva Srikanth.mp4\n",
            "MoviePy - Writing audio in /content/Songs/Asku Laska Nanban  Movie Songs  2k Video  நண்பன்  Vijay Ileana Jiva Srikanth.mp3\n"
          ]
        },
        {
          "output_type": "stream",
          "name": "stderr",
          "text": []
        },
        {
          "output_type": "stream",
          "name": "stdout",
          "text": [
            "MoviePy - Done.\n",
            "Kalasala Kalasala.mp4\n",
            "MoviePy - Writing audio in /content/Songs/Kalasala Kalasala.mp3\n"
          ]
        },
        {
          "output_type": "stream",
          "name": "stderr",
          "text": []
        },
        {
          "output_type": "stream",
          "name": "stdout",
          "text": [
            "MoviePy - Done.\n",
            "Vaadiyamma Jakkamma - HD Video Song  வாடியம்மா ஜக்கம்மா  Thirumalai  Vijay  Jyothika Vidyasagar.mp4\n",
            "MoviePy - Writing audio in /content/Songs/Vaadiyamma Jakkamma - HD Video Song  வாடியம்மா ஜக்கம்மா  Thirumalai  Vijay  Jyothika Vidyasagar.mp3\n"
          ]
        },
        {
          "output_type": "stream",
          "name": "stderr",
          "text": []
        },
        {
          "output_type": "stream",
          "name": "stdout",
          "text": [
            "MoviePy - Done.\n",
            "Mazhaiye Mazhaiye Eeram 2009 Tamil HD Video Song 1080P Bluray.mp4\n",
            "MoviePy - Writing audio in /content/Songs/Mazhaiye Mazhaiye Eeram 2009 Tamil HD Video Song 1080P Bluray.mp3\n"
          ]
        },
        {
          "output_type": "stream",
          "name": "stderr",
          "text": []
        },
        {
          "output_type": "stream",
          "name": "stdout",
          "text": [
            "MoviePy - Done.\n",
            "Gundu Manga Thoppukulle Full Video Song 4K  Sachien Tamil Movie  Vijay  Genelia  Devi Sri Prasad.mp4\n",
            "MoviePy - Writing audio in /content/Songs/Gundu Manga Thoppukulle Full Video Song 4K  Sachien Tamil Movie  Vijay  Genelia  Devi Sri Prasad.mp3\n"
          ]
        },
        {
          "output_type": "stream",
          "name": "stderr",
          "text": []
        },
        {
          "output_type": "stream",
          "name": "stdout",
          "text": [
            "MoviePy - Done.\n",
            "Simbu Hit Songs  Thotta Poweru Da Video Song  Thotti Jaya Tamil Movie  Simbu  Harris Jayaraj.mp4\n",
            "MoviePy - Writing audio in /content/Songs/Simbu Hit Songs  Thotta Poweru Da Video Song  Thotti Jaya Tamil Movie  Simbu  Harris Jayaraj.mp3\n"
          ]
        },
        {
          "output_type": "stream",
          "name": "stderr",
          "text": []
        },
        {
          "output_type": "stream",
          "name": "stdout",
          "text": [
            "MoviePy - Done.\n",
            "Unnale Unnale - Video Song  உன்னாலே உன்னாலே  Vinay  Sadha  Jeeva  Harris Jayaraj  Ayngaran.mp4\n",
            "MoviePy - Writing audio in /content/Songs/Unnale Unnale - Video Song  உன்னாலே உன்னாலே  Vinay  Sadha  Jeeva  Harris Jayaraj  Ayngaran.mp3\n"
          ]
        },
        {
          "output_type": "stream",
          "name": "stderr",
          "text": []
        },
        {
          "output_type": "stream",
          "name": "stdout",
          "text": [
            "MoviePy - Done.\n",
            "Lajjavathiye  4 Students HD Video Song + HD Audio  BharathGopika   Jassie Gift.mp4\n",
            "MoviePy - Writing audio in /content/Songs/Lajjavathiye  4 Students HD Video Song + HD Audio  BharathGopika   Jassie Gift.mp3\n"
          ]
        },
        {
          "output_type": "stream",
          "name": "stderr",
          "text": []
        },
        {
          "output_type": "stream",
          "name": "stdout",
          "text": [
            "MoviePy - Done.\n",
            "Chinna Thamarai.mp4\n",
            "MoviePy - Writing audio in /content/Songs/Chinna Thamarai.mp3\n"
          ]
        },
        {
          "output_type": "stream",
          "name": "stderr",
          "text": []
        },
        {
          "output_type": "stream",
          "name": "stdout",
          "text": [
            "MoviePy - Done.\n",
            "Azhagho Azhaghu (From Samar).mp4\n",
            "MoviePy - Writing audio in /content/Songs/Azhagho Azhaghu (From Samar).mp3\n"
          ]
        },
        {
          "output_type": "stream",
          "name": "stderr",
          "text": []
        },
        {
          "output_type": "stream",
          "name": "stdout",
          "text": [
            "MoviePy - Done.\n",
            "Thappu Thanda.mp4\n",
            "MoviePy - Writing audio in /content/Songs/Thappu Thanda.mp3\n"
          ]
        },
        {
          "output_type": "stream",
          "name": "stderr",
          "text": []
        },
        {
          "output_type": "stream",
          "name": "stdout",
          "text": [
            "MoviePy - Done.\n",
            "Onnum Puriyala Video  Vikram Prabhu Lakshmi Menon  D Imman.mp4\n",
            "MoviePy - Writing audio in /content/Songs/Onnum Puriyala Video  Vikram Prabhu Lakshmi Menon  D Imman.mp3\n"
          ]
        },
        {
          "output_type": "stream",
          "name": "stderr",
          "text": []
        },
        {
          "output_type": "stream",
          "name": "stdout",
          "text": [
            "MoviePy - Done.\n",
            "Antartica.mp4\n",
            "MoviePy - Writing audio in /content/Songs/Antartica.mp3\n"
          ]
        },
        {
          "output_type": "stream",
          "name": "stderr",
          "text": []
        },
        {
          "output_type": "stream",
          "name": "stdout",
          "text": [
            "MoviePy - Done.\n",
            "Takkunu Takkunu (From Mr Local).mp4\n",
            "MoviePy - Writing audio in /content/Songs/Takkunu Takkunu (From Mr Local).mp3\n"
          ]
        },
        {
          "output_type": "stream",
          "name": "stderr",
          "text": []
        },
        {
          "output_type": "stream",
          "name": "stdout",
          "text": [
            "MoviePy - Done.\n",
            "Yaar Indha Saalai Oram.mp4\n",
            "MoviePy - Writing audio in /content/Songs/Yaar Indha Saalai Oram.mp3\n"
          ]
        },
        {
          "output_type": "stream",
          "name": "stderr",
          "text": []
        },
        {
          "output_type": "stream",
          "name": "stdout",
          "text": [
            "MoviePy - Done.\n",
            "Thaarumaaru Thakkaalisoru.mp4\n",
            "MoviePy - Writing audio in /content/Songs/Thaarumaaru Thakkaalisoru.mp3\n"
          ]
        },
        {
          "output_type": "stream",
          "name": "stderr",
          "text": []
        },
        {
          "output_type": "stream",
          "name": "stdout",
          "text": [
            "MoviePy - Done.\n",
            "Munnal Kadhali Video  Jayam Ravi  D Imman.mp4\n",
            "MoviePy - Writing audio in /content/Songs/Munnal Kadhali Video  Jayam Ravi  D Imman.mp3\n"
          ]
        },
        {
          "output_type": "stream",
          "name": "stderr",
          "text": []
        },
        {
          "output_type": "stream",
          "name": "stdout",
          "text": [
            "MoviePy - Done.\n",
            "Raangu.mp4\n",
            "MoviePy - Writing audio in /content/Songs/Raangu.mp3\n"
          ]
        },
        {
          "output_type": "stream",
          "name": "stderr",
          "text": []
        },
        {
          "output_type": "stream",
          "name": "stdout",
          "text": [
            "MoviePy - Done.\n",
            "Podu Aatam Podu  HD Video Song 51 AUDIO  Vallavan  Simbu  Yuvan Shankar Raja.mp4\n",
            "MoviePy - Writing audio in /content/Songs/Podu Aatam Podu  HD Video Song 51 AUDIO  Vallavan  Simbu  Yuvan Shankar Raja.mp3\n"
          ]
        },
        {
          "output_type": "stream",
          "name": "stderr",
          "text": []
        },
        {
          "output_type": "stream",
          "name": "stdout",
          "text": [
            "MoviePy - Done.\n",
            "Chiku Chiku Boom Boom Video  Nakul Sunaina  D Imman.mp4\n",
            "MoviePy - Writing audio in /content/Songs/Chiku Chiku Boom Boom Video  Nakul Sunaina  D Imman.mp3\n"
          ]
        },
        {
          "output_type": "stream",
          "name": "stderr",
          "text": []
        },
        {
          "output_type": "stream",
          "name": "stdout",
          "text": [
            "MoviePy - Done.\n",
            "En Kadhal Solla Video  Karthi Tamannah  Yuvan Shankar Raja.mp4\n",
            "MoviePy - Writing audio in /content/Songs/En Kadhal Solla Video  Karthi Tamannah  Yuvan Shankar Raja.mp3\n"
          ]
        },
        {
          "output_type": "stream",
          "name": "stderr",
          "text": []
        },
        {
          "output_type": "stream",
          "name": "stdout",
          "text": [
            "MoviePy - Done.\n",
            "Idhazhin Oram Video  Dhanush Shruti  Anirudh.mp4\n",
            "MoviePy - Writing audio in /content/Songs/Idhazhin Oram Video  Dhanush Shruti  Anirudh.mp3\n"
          ]
        },
        {
          "output_type": "stream",
          "name": "stderr",
          "text": []
        },
        {
          "output_type": "stream",
          "name": "stdout",
          "text": [
            "MoviePy - Done.\n",
            "Dhanush hits -Padichu Parthen hd.mp4\n",
            "MoviePy - Writing audio in /content/Songs/Dhanush hits -Padichu Parthen hd.mp3\n"
          ]
        },
        {
          "output_type": "stream",
          "name": "stderr",
          "text": []
        },
        {
          "output_type": "stream",
          "name": "stdout",
          "text": [
            "MoviePy - Done.\n",
            "Va Va Va En Thalaiva Full Video Song 4K  Sachien Tamil Movie  Vijay  Genelia  Devi Sri Prasad.mp4\n",
            "MoviePy - Writing audio in /content/Songs/Va Va Va En Thalaiva Full Video Song 4K  Sachien Tamil Movie  Vijay  Genelia  Devi Sri Prasad.mp3\n"
          ]
        },
        {
          "output_type": "stream",
          "name": "stderr",
          "text": []
        },
        {
          "output_type": "stream",
          "name": "stdout",
          "text": [
            "MoviePy - Done.\n",
            "Valayapatti - Video Song  Azhagiya Tamil Magan  Vijay  Shreya  AR Rahman  Ayngaran.mp4\n",
            "MoviePy - Writing audio in /content/Songs/Valayapatti - Video Song  Azhagiya Tamil Magan  Vijay  Shreya  AR Rahman  Ayngaran.mp3\n"
          ]
        },
        {
          "output_type": "stream",
          "name": "stderr",
          "text": []
        },
        {
          "output_type": "stream",
          "name": "stdout",
          "text": [
            "MoviePy - Done.\n",
            "Thappa Dhaan Theriyum Video  Dhanush Kajal Agarwal  Anirudh.mp4\n",
            "MoviePy - Writing audio in /content/Songs/Thappa Dhaan Theriyum Video  Dhanush Kajal Agarwal  Anirudh.mp3\n"
          ]
        },
        {
          "output_type": "stream",
          "name": "stderr",
          "text": []
        },
        {
          "output_type": "stream",
          "name": "stdout",
          "text": [
            "MoviePy - Done.\n",
            "Jingiliya Video  Vijay Shruti Haasan  DSP.mp4\n",
            "MoviePy - Writing audio in /content/Songs/Jingiliya Video  Vijay Shruti Haasan  DSP.mp3\n"
          ]
        },
        {
          "output_type": "stream",
          "name": "stderr",
          "text": []
        },
        {
          "output_type": "stream",
          "name": "stdout",
          "text": [
            "MoviePy - Done.\n",
            "Elanthapalam Elanthapalam Video Song  Madurey Tamil Movie  Vijay  Sonia Agarwal  Vidyasagar.mp4\n",
            "MoviePy - Writing audio in /content/Songs/Elanthapalam Elanthapalam Video Song  Madurey Tamil Movie  Vijay  Sonia Agarwal  Vidyasagar.mp3\n"
          ]
        },
        {
          "output_type": "stream",
          "name": "stderr",
          "text": []
        },
        {
          "output_type": "stream",
          "name": "stdout",
          "text": [
            "MoviePy - Done.\n",
            "Solli Tholaiyen Ma - Yaakkai  Official Video Song  Yuvan Shankar Raja  Dhanush  Vignesh ShivN.mp4\n",
            "MoviePy - Writing audio in /content/Songs/Solli Tholaiyen Ma - Yaakkai  Official Video Song  Yuvan Shankar Raja  Dhanush  Vignesh ShivN.mp3\n"
          ]
        },
        {
          "output_type": "stream",
          "name": "stderr",
          "text": []
        },
        {
          "output_type": "stream",
          "name": "stdout",
          "text": [
            "MoviePy - Done.\n",
            "Mozha Mozhannu - Video Song  Kuruvi  Vijay  Trisha  Vidyasagar  Ayngaran.mp4\n",
            "MoviePy - Writing audio in /content/Songs/Mozha Mozhannu - Video Song  Kuruvi  Vijay  Trisha  Vidyasagar  Ayngaran.mp3\n"
          ]
        },
        {
          "output_type": "stream",
          "name": "stderr",
          "text": []
        },
        {
          "output_type": "stream",
          "name": "stdout",
          "text": [
            "MoviePy - Done.\n",
            "Ava Enna Video  Harris Jayaraj  Suriya.mp4\n",
            "MoviePy - Writing audio in /content/Songs/Ava Enna Video  Harris Jayaraj  Suriya.mp3\n"
          ]
        },
        {
          "output_type": "stream",
          "name": "stderr",
          "text": []
        },
        {
          "output_type": "stream",
          "name": "stdout",
          "text": [
            "MoviePy - Done.\n",
            "Nangaai.mp4\n",
            "MoviePy - Writing audio in /content/Songs/Nangaai.mp3\n"
          ]
        },
        {
          "output_type": "stream",
          "name": "stderr",
          "text": []
        },
        {
          "output_type": "stream",
          "name": "stdout",
          "text": [
            "MoviePy - Done.\n",
            "O Sukumari - HD Video Song  Anniyan  Vikram  Shankar  Harris Jayaraj  Ayngaran.mp4\n",
            "MoviePy - Writing audio in /content/Songs/O Sukumari - HD Video Song  Anniyan  Vikram  Shankar  Harris Jayaraj  Ayngaran.mp3\n"
          ]
        },
        {
          "output_type": "stream",
          "name": "stderr",
          "text": []
        },
        {
          "output_type": "stream",
          "name": "stdout",
          "text": [
            "MoviePy - Done.\n",
            "Sodakku Tamil Video  Suriya  Anirudh l Keerthi Suresh.mp4\n",
            "MoviePy - Writing audio in /content/Songs/Sodakku Tamil Video  Suriya  Anirudh l Keerthi Suresh.mp3\n"
          ]
        },
        {
          "output_type": "stream",
          "name": "stderr",
          "text": []
        },
        {
          "output_type": "stream",
          "name": "stdout",
          "text": [
            "MoviePy - Done.\n",
            "Ponmagal Vandaal.mp4\n",
            "MoviePy - Writing audio in /content/Songs/Ponmagal Vandaal.mp3\n"
          ]
        },
        {
          "output_type": "stream",
          "name": "stderr",
          "text": []
        },
        {
          "output_type": "stream",
          "name": "stdout",
          "text": [
            "MoviePy - Done.\n",
            "Odi Odi Vilayada Video  Nakul Sunaina  D Imman.mp4\n",
            "MoviePy - Writing audio in /content/Songs/Odi Odi Vilayada Video  Nakul Sunaina  D Imman.mp3\n"
          ]
        },
        {
          "output_type": "stream",
          "name": "stderr",
          "text": []
        },
        {
          "output_type": "stream",
          "name": "stdout",
          "text": [
            "MoviePy - Done.\n",
            "Arakkiyae.mp4\n",
            "MoviePy - Writing audio in /content/Songs/Arakkiyae.mp3\n"
          ]
        },
        {
          "output_type": "stream",
          "name": "stderr",
          "text": []
        },
        {
          "output_type": "stream",
          "name": "stdout",
          "text": [
            "MoviePy - Done.\n",
            "Pala Kodi Pengalilay-India Pakistan  Vijay Antony Sushma Raj Pasupathy Jegan.mp4\n",
            "MoviePy - Writing audio in /content/Songs/Pala Kodi Pengalilay-India Pakistan  Vijay Antony Sushma Raj Pasupathy Jegan.mp3\n"
          ]
        },
        {
          "output_type": "stream",
          "name": "stderr",
          "text": []
        },
        {
          "output_type": "stream",
          "name": "stdout",
          "text": [
            "MoviePy - Done.\n",
            "Thanni Karuthirichi.mp4\n",
            "MoviePy - Writing audio in /content/Songs/Thanni Karuthirichi.mp3\n"
          ]
        },
        {
          "output_type": "stream",
          "name": "stderr",
          "text": []
        },
        {
          "output_type": "stream",
          "name": "stdout",
          "text": [
            "MoviePy - Done.\n",
            "Alwarpetai Aaluda - HD Video Song  Vasool Raja  Kamal Haasan  Sneha  Saran  Bharadwaj Ayngaran.mp4\n",
            "MoviePy - Writing audio in /content/Songs/Alwarpetai Aaluda - HD Video Song  Vasool Raja  Kamal Haasan  Sneha  Saran  Bharadwaj Ayngaran.mp3\n"
          ]
        },
        {
          "output_type": "stream",
          "name": "stderr",
          "text": []
        },
        {
          "output_type": "stream",
          "name": "stdout",
          "text": [
            "MoviePy - Done.\n",
            "Master - Andha Kanna Paathaakaa Video  Thalapathy Vijay  Anirudh Ravichander  Lokesh Kanagaraj.mp4\n",
            "MoviePy - Writing audio in /content/Songs/Master - Andha Kanna Paathaakaa Video  Thalapathy Vijay  Anirudh Ravichander  Lokesh Kanagaraj.mp3\n"
          ]
        },
        {
          "output_type": "stream",
          "name": "stderr",
          "text": []
        },
        {
          "output_type": "stream",
          "name": "stdout",
          "text": [
            "MoviePy - Done.\n",
            "Ussumu Laresey.mp4\n",
            "MoviePy - Writing audio in /content/Songs/Ussumu Laresey.mp3\n"
          ]
        },
        {
          "output_type": "stream",
          "name": "stderr",
          "text": []
        },
        {
          "output_type": "stream",
          "name": "stdout",
          "text": [
            "MoviePy - Done.\n",
            "Pidikkudhae (From Sigaram Thodu).mp4\n",
            "MoviePy - Writing audio in /content/Songs/Pidikkudhae (From Sigaram Thodu).mp3\n"
          ]
        },
        {
          "output_type": "stream",
          "name": "stderr",
          "text": []
        },
        {
          "output_type": "stream",
          "name": "stdout",
          "text": [
            "MoviePy - Done.\n",
            "Maari Thara Local Video  Dhanush  Anirudh Ravichander.mp4\n",
            "MoviePy - Writing audio in /content/Songs/Maari Thara Local Video  Dhanush  Anirudh Ravichander.mp3\n"
          ]
        },
        {
          "output_type": "stream",
          "name": "stderr",
          "text": []
        },
        {
          "output_type": "stream",
          "name": "stdout",
          "text": [
            "MoviePy - Done.\n",
            "Hey Singari  Music Video  GVPrakash  Micset Sriram  AJ Musical  Vilva  Micset.mp4\n",
            "MoviePy - Writing audio in /content/Songs/Hey Singari  Music Video  GVPrakash  Micset Sriram  AJ Musical  Vilva  Micset.mp3\n"
          ]
        },
        {
          "output_type": "stream",
          "name": "stderr",
          "text": []
        },
        {
          "output_type": "stream",
          "name": "stdout",
          "text": [
            "MoviePy - Done.\n",
            "Mannavanae Mannavanae Video  Vijay  DSP.mp4\n",
            "MoviePy - Writing audio in /content/Songs/Mannavanae Mannavanae Video  Vijay  DSP.mp3\n"
          ]
        },
        {
          "output_type": "stream",
          "name": "stderr",
          "text": []
        },
        {
          "output_type": "stream",
          "name": "stdout",
          "text": [
            "MoviePy - Done.\n",
            "Uchimandai (From Vettaikaaran).mp4\n",
            "MoviePy - Writing audio in /content/Songs/Uchimandai (From Vettaikaaran).mp3\n"
          ]
        },
        {
          "output_type": "stream",
          "name": "stderr",
          "text": []
        },
        {
          "output_type": "stream",
          "name": "stdout",
          "text": [
            "MoviePy - Done.\n",
            "Aathangara Orathil Video  Jiiva  Harris Jayaraj  Super Hit.mp4\n",
            "MoviePy - Writing audio in /content/Songs/Aathangara Orathil Video  Jiiva  Harris Jayaraj  Super Hit.mp3\n"
          ]
        },
        {
          "output_type": "stream",
          "name": "stderr",
          "text": []
        },
        {
          "output_type": "stream",
          "name": "stdout",
          "text": [
            "MoviePy - Done.\n",
            "Kumbida Pona Deivam Video Song  Thirupaachi Tamil Movie  Vijay  Trisha  Dhina  Perarasu.mp4\n",
            "MoviePy - Writing audio in /content/Songs/Kumbida Pona Deivam Video Song  Thirupaachi Tamil Movie  Vijay  Trisha  Dhina  Perarasu.mp3\n"
          ]
        },
        {
          "output_type": "stream",
          "name": "stderr",
          "text": []
        },
        {
          "output_type": "stream",
          "name": "stdout",
          "text": [
            "MoviePy - Done.\n",
            "Yammadi Aathadi - HD Video Song  யம்மாடி ஆத்தாடி  Vallavan  Silambarasan  Nayanthara  Yuvan.mp4\n",
            "MoviePy - Writing audio in /content/Songs/Yammadi Aathadi - HD Video Song  யம்மாடி ஆத்தாடி  Vallavan  Silambarasan  Nayanthara  Yuvan.mp3\n"
          ]
        },
        {
          "output_type": "stream",
          "name": "stderr",
          "text": []
        },
        {
          "output_type": "stream",
          "name": "stdout",
          "text": [
            "MoviePy - Done.\n",
            "Memory Loss.mp4\n",
            "MoviePy - Writing audio in /content/Songs/Memory Loss.mp3\n"
          ]
        },
        {
          "output_type": "stream",
          "name": "stderr",
          "text": []
        },
        {
          "output_type": "stream",
          "name": "stdout",
          "text": [
            "MoviePy - Done.\n",
            "Private Party Video  Sivakarthikeyan Priyanka Mohan  Anirudh.mp4\n",
            "MoviePy - Writing audio in /content/Songs/Private Party Video  Sivakarthikeyan Priyanka Mohan  Anirudh.mp3\n"
          ]
        },
        {
          "output_type": "stream",
          "name": "stderr",
          "text": []
        },
        {
          "output_type": "stream",
          "name": "stdout",
          "text": [
            "MoviePy - Done.\n",
            "Master - Kutti Story Video  Thalapathy Vijay  Anirudh Ravichander  Lokesh Kanagaraj.mp4\n",
            "MoviePy - Writing audio in /content/Songs/Master - Kutti Story Video  Thalapathy Vijay  Anirudh Ravichander  Lokesh Kanagaraj.mp3\n"
          ]
        },
        {
          "output_type": "stream",
          "name": "stderr",
          "text": []
        },
        {
          "output_type": "stream",
          "name": "stdout",
          "text": [
            "MoviePy - Done.\n",
            "Amali Thumali.mp4\n",
            "MoviePy - Writing audio in /content/Songs/Amali Thumali.mp3\n"
          ]
        },
        {
          "output_type": "stream",
          "name": "stderr",
          "text": []
        },
        {
          "output_type": "stream",
          "name": "stdout",
          "text": [
            "MoviePy - Done.\n",
            "En Jannal Vandha Video  Yuvanshankar Raja  Vishal.mp4\n",
            "MoviePy - Writing audio in /content/Songs/En Jannal Vandha Video  Yuvanshankar Raja  Vishal.mp3\n"
          ]
        },
        {
          "output_type": "stream",
          "name": "stderr",
          "text": []
        },
        {
          "output_type": "stream",
          "name": "stdout",
          "text": [
            "MoviePy - Done.\n",
            "Siragugal Video Song  சிறகுகள் வந்தது  Sarvam  Arya  Trisha  Yuvan Shankar Raja Hits.mp4\n",
            "MoviePy - Writing audio in /content/Songs/Siragugal Video Song  சிறகுகள் வந்தது  Sarvam  Arya  Trisha  Yuvan Shankar Raja Hits.mp3\n"
          ]
        },
        {
          "output_type": "stream",
          "name": "stderr",
          "text": []
        },
        {
          "output_type": "stream",
          "name": "stdout",
          "text": [
            "MoviePy - Done.\n",
            "Kannadi Poovukku - Official Video  Enakku Vaaitha Adimaigal  Jai Pranitha  Santhosh Dhayanidhi.mp4\n",
            "MoviePy - Writing audio in /content/Songs/Kannadi Poovukku - Official Video  Enakku Vaaitha Adimaigal  Jai Pranitha  Santhosh Dhayanidhi.mp3\n"
          ]
        },
        {
          "output_type": "stream",
          "name": "stderr",
          "text": []
        },
        {
          "output_type": "stream",
          "name": "stdout",
          "text": [
            "MoviePy - Done.\n",
            "Maskara Pottu  Video Song  Salim  Vijay Antony  Supriya joshi  மஸ்காரா  சலீம்  Tamil HD Song.mp4\n",
            "MoviePy - Writing audio in /content/Songs/Maskara Pottu  Video Song  Salim  Vijay Antony  Supriya joshi  மஸ்காரா  சலீம்  Tamil HD Song.mp3\n"
          ]
        },
        {
          "output_type": "stream",
          "name": "stderr",
          "text": []
        },
        {
          "output_type": "stream",
          "name": "stdout",
          "text": [
            "MoviePy - Done.\n",
            "JollyO Gymkhana - Video Song Beast  Thalapathy Vijay  Pooja Hegde  Sun Pictures Nelson Anirudh.mp4\n",
            "MoviePy - Writing audio in /content/Songs/JollyO Gymkhana - Video Song Beast  Thalapathy Vijay  Pooja Hegde  Sun Pictures Nelson Anirudh.mp3\n"
          ]
        },
        {
          "output_type": "stream",
          "name": "stderr",
          "text": []
        },
        {
          "output_type": "stream",
          "name": "stdout",
          "text": [
            "MoviePy - Done.\n",
            "Karigalan Video  Vijay Anushka.mp4\n",
            "MoviePy - Writing audio in /content/Songs/Karigalan Video  Vijay Anushka.mp3\n"
          ]
        },
        {
          "output_type": "stream",
          "name": "stderr",
          "text": []
        },
        {
          "output_type": "stream",
          "name": "stdout",
          "text": [
            "MoviePy - Done.\n",
            "Hey Vaada Vaada  Tamil Video SOng  Kacheri Aarambam  Jiva   Poonam bajwa  D Imman.mp4\n",
            "MoviePy - Writing audio in /content/Songs/Hey Vaada Vaada  Tamil Video SOng  Kacheri Aarambam  Jiva   Poonam bajwa  D Imman.mp3\n"
          ]
        },
        {
          "output_type": "stream",
          "name": "stderr",
          "text": []
        },
        {
          "output_type": "stream",
          "name": "stdout",
          "text": [
            "MoviePy - Done.\n",
            "Oru Ponna Parthein Mama  India Pakistan  Official Full Video Song  Vijay Antony Sushma Raj.mp4\n",
            "MoviePy - Writing audio in /content/Songs/Oru Ponna Parthein Mama  India Pakistan  Official Full Video Song  Vijay Antony Sushma Raj.mp3\n"
          ]
        },
        {
          "output_type": "stream",
          "name": "stderr",
          "text": []
        },
        {
          "output_type": "stream",
          "name": "stdout",
          "text": [
            "MoviePy - Done.\n",
            "Poondamalli - Full Song Video - Thadaiyara Thakka.mp4\n",
            "MoviePy - Writing audio in /content/Songs/Poondamalli - Full Song Video - Thadaiyara Thakka.mp3\n"
          ]
        },
        {
          "output_type": "stream",
          "name": "stderr",
          "text": []
        },
        {
          "output_type": "stream",
          "name": "stdout",
          "text": [
            "MoviePy - Done.\n",
            "Azhagiya Tamil Magan Movie Songs HD  Nee Marilyn Monroe Video Song  Vijay  Namitha  AR Rahman.mp4\n",
            "MoviePy - Writing audio in /content/Songs/Azhagiya Tamil Magan Movie Songs HD  Nee Marilyn Monroe Video Song  Vijay  Namitha  AR Rahman.mp3\n"
          ]
        },
        {
          "output_type": "stream",
          "name": "stderr",
          "text": []
        },
        {
          "output_type": "stream",
          "name": "stdout",
          "text": [
            "MoviePy - Done.\n",
            "Kadhalikathey.mp4\n",
            "MoviePy - Writing audio in /content/Songs/Kadhalikathey.mp3\n"
          ]
        },
        {
          "output_type": "stream",
          "name": "stderr",
          "text": []
        },
        {
          "output_type": "stream",
          "name": "stdout",
          "text": [
            "MoviePy - Done.\n",
            "The Illai - Video Edit.mp4\n",
            "MoviePy - Writing audio in /content/Songs/The Illai - Video Edit.mp3\n"
          ]
        },
        {
          "output_type": "stream",
          "name": "stderr",
          "text": []
        },
        {
          "output_type": "stream",
          "name": "stdout",
          "text": [
            "MoviePy - Done.\n",
            "Yeppadi Iruntha En Manasu  4K HD Video Song  Santhosh Subramaniyam  Jeyam Ravi  Jeliniya.mp4\n",
            "MoviePy - Writing audio in /content/Songs/Yeppadi Iruntha En Manasu  4K HD Video Song  Santhosh Subramaniyam  Jeyam Ravi  Jeliniya.mp3\n"
          ]
        },
        {
          "output_type": "stream",
          "name": "stderr",
          "text": []
        },
        {
          "output_type": "stream",
          "name": "stdout",
          "text": [
            "MoviePy - Done.\n",
            "Latest Tamil Hits  Penn Oruthi Video Song  Gemini Tamil Movie Songs  Vikram  Kiran  Bharathwaj.mp4\n",
            "MoviePy - Writing audio in /content/Songs/Latest Tamil Hits  Penn Oruthi Video Song  Gemini Tamil Movie Songs  Vikram  Kiran  Bharathwaj.mp3\n"
          ]
        },
        {
          "output_type": "stream",
          "name": "stderr",
          "text": []
        },
        {
          "output_type": "stream",
          "name": "stdout",
          "text": [
            "MoviePy - Done.\n",
            "Hi Sonna Podhum Video  Jayam Ravi Samyuktha Hegde Hiphop T.mp4\n",
            "MoviePy - Writing audio in /content/Songs/Hi Sonna Podhum Video  Jayam Ravi Samyuktha Hegde Hiphop T.mp3\n"
          ]
        },
        {
          "output_type": "stream",
          "name": "stderr",
          "text": []
        },
        {
          "output_type": "stream",
          "name": "stdout",
          "text": [
            "MoviePy - Done.\n",
            "Aambalaikum Pombalaikum.mp4\n",
            "MoviePy - Writing audio in /content/Songs/Aambalaikum Pombalaikum.mp3\n"
          ]
        },
        {
          "output_type": "stream",
          "name": "stderr",
          "text": []
        },
        {
          "output_type": "stream",
          "name": "stdout",
          "text": [
            "MoviePy - Done.\n",
            "Kuch Kuch Hota Hai Video Song  Bagheera  Prabhu Deva Adhik Ravichandran Ganesan S RVBharathan.mp4\n",
            "MoviePy - Writing audio in /content/Songs/Kuch Kuch Hota Hai Video Song  Bagheera  Prabhu Deva Adhik Ravichandran Ganesan S RVBharathan.mp3\n"
          ]
        },
        {
          "output_type": "stream",
          "name": "stderr",
          "text": []
        },
        {
          "output_type": "stream",
          "name": "stdout",
          "text": [
            "MoviePy - Done.\n",
            "Mukkala Mukkabala Video Song  Kadhalan Movie Songs  Prabhudeva  Nagma  AR Rahman.mp4\n",
            "MoviePy - Writing audio in /content/Songs/Mukkala Mukkabala Video Song  Kadhalan Movie Songs  Prabhudeva  Nagma  AR Rahman.mp3\n"
          ]
        },
        {
          "output_type": "stream",
          "name": "stderr",
          "text": []
        },
        {
          "output_type": "stream",
          "name": "stdout",
          "text": [
            "MoviePy - Done.\n",
            "Vera Level - U.mp4\n",
            "MoviePy - Writing audio in /content/Songs/Vera Level - U.mp3\n"
          ]
        },
        {
          "output_type": "stream",
          "name": "stderr",
          "text": []
        },
        {
          "output_type": "stream",
          "name": "stdout",
          "text": [
            "MoviePy - Done.\n",
            "Mersal Arasan Tamil Video  Vijay  AR Rahman.mp4\n",
            "MoviePy - Writing audio in /content/Songs/Mersal Arasan Tamil Video  Vijay  AR Rahman.mp3\n"
          ]
        },
        {
          "output_type": "stream",
          "name": "stderr",
          "text": []
        },
        {
          "output_type": "stream",
          "name": "stdout",
          "text": [
            "MoviePy - Done.\n",
            "Pambarakkannu Pachamilakaa.mp4\n",
            "MoviePy - Writing audio in /content/Songs/Pambarakkannu Pachamilakaa.mp3\n"
          ]
        },
        {
          "output_type": "stream",
          "name": "stderr",
          "text": []
        },
        {
          "output_type": "stream",
          "name": "stdout",
          "text": [
            "MoviePy - Done.\n",
            "Unnai Paartha Pinbu Naan HD Video Song  Kadhal Mannan Movie HD Video Song  FLAC Audio Muxed.mp4\n",
            "MoviePy - Writing audio in /content/Songs/Unnai Paartha Pinbu Naan HD Video Song  Kadhal Mannan Movie HD Video Song  FLAC Audio Muxed.mp3\n"
          ]
        },
        {
          "output_type": "stream",
          "name": "stderr",
          "text": []
        },
        {
          "output_type": "stream",
          "name": "stdout",
          "text": [
            "MoviePy - Done.\n",
            "Thimiru Kaattaadha Di (From Lkg).mp4\n",
            "MoviePy - Writing audio in /content/Songs/Thimiru Kaattaadha Di (From Lkg).mp3\n"
          ]
        },
        {
          "output_type": "stream",
          "name": "stderr",
          "text": []
        },
        {
          "output_type": "stream",
          "name": "stdout",
          "text": [
            "MoviePy - Done.\n",
            "Taxi Taxi Video  AR Rahman  Shanthnu.mp4\n",
            "MoviePy - Writing audio in /content/Songs/Taxi Taxi Video  AR Rahman  Shanthnu.mp3\n"
          ]
        },
        {
          "output_type": "stream",
          "name": "stderr",
          "text": []
        },
        {
          "output_type": "stream",
          "name": "stdout",
          "text": [
            "MoviePy - Done.\n",
            "Paarai Mele.mp4\n",
            "MoviePy - Writing audio in /content/Songs/Paarai Mele.mp3\n"
          ]
        },
        {
          "output_type": "stream",
          "name": "stderr",
          "text": []
        },
        {
          "output_type": "stream",
          "name": "stdout",
          "text": [
            "MoviePy - Done.\n",
            "Ailesa.mp4\n",
            "MoviePy - Writing audio in /content/Songs/Ailesa.mp3\n"
          ]
        },
        {
          "output_type": "stream",
          "name": "stderr",
          "text": []
        },
        {
          "output_type": "stream",
          "name": "stdout",
          "text": [
            "MoviePy - Done.\n",
            "Andha Madhiri Ponna.mp4\n",
            "MoviePy - Writing audio in /content/Songs/Andha Madhiri Ponna.mp3\n"
          ]
        },
        {
          "output_type": "stream",
          "name": "stderr",
          "text": []
        },
        {
          "output_type": "stream",
          "name": "stdout",
          "text": [
            "MoviePy - Done.\n",
            "Kadaikutty Singam - Sandakkaari Tamil Video  Karthi Sayyeshaa  D Imman.mp4\n",
            "MoviePy - Writing audio in /content/Songs/Kadaikutty Singam - Sandakkaari Tamil Video  Karthi Sayyeshaa  D Imman.mp3\n"
          ]
        },
        {
          "output_type": "stream",
          "name": "stderr",
          "text": []
        },
        {
          "output_type": "stream",
          "name": "stdout",
          "text": [
            "MoviePy - Done.\n",
            "Vaanganna Vanakkanganna (From Thalaivaa).mp4\n",
            "MoviePy - Writing audio in /content/Songs/Vaanganna Vanakkanganna (From Thalaivaa).mp3\n"
          ]
        },
        {
          "output_type": "stream",
          "name": "stderr",
          "text": []
        },
        {
          "output_type": "stream",
          "name": "stdout",
          "text": [
            "MoviePy - Done.\n",
            "Theeratha Vilaiyattu.mp4\n",
            "MoviePy - Writing audio in /content/Songs/Theeratha Vilaiyattu.mp3\n"
          ]
        },
        {
          "output_type": "stream",
          "name": "stderr",
          "text": []
        },
        {
          "output_type": "stream",
          "name": "stdout",
          "text": [
            "MoviePy - Done.\n",
            "Meherezylaa.mp4\n",
            "MoviePy - Writing audio in /content/Songs/Meherezylaa.mp3\n"
          ]
        },
        {
          "output_type": "stream",
          "name": "stderr",
          "text": []
        },
        {
          "output_type": "stream",
          "name": "stdout",
          "text": [
            "MoviePy - Done.\n",
            "Therkku Cheemayile - Ajit Pooja Sujatha - Attahasam - Tamil Classic Song.mp4\n",
            "MoviePy - Writing audio in /content/Songs/Therkku Cheemayile - Ajit Pooja Sujatha - Attahasam - Tamil Classic Song.mp3\n"
          ]
        },
        {
          "output_type": "stream",
          "name": "stderr",
          "text": []
        },
        {
          "output_type": "stream",
          "name": "stdout",
          "text": [
            "MoviePy - Done.\n",
            "Athuvutta (From Pokkiri Raja).mp4\n",
            "MoviePy - Writing audio in /content/Songs/Athuvutta (From Pokkiri Raja).mp3\n"
          ]
        },
        {
          "output_type": "stream",
          "name": "stderr",
          "text": []
        },
        {
          "output_type": "stream",
          "name": "stdout",
          "text": [
            "MoviePy - Done.\n",
            "Aathi  Full Video Song  Kaththi  Vijay Samantha Ruth Prabhu.mp4\n",
            "MoviePy - Writing audio in /content/Songs/Aathi  Full Video Song  Kaththi  Vijay Samantha Ruth Prabhu.mp3\n"
          ]
        },
        {
          "output_type": "stream",
          "name": "stderr",
          "text": []
        },
        {
          "output_type": "stream",
          "name": "stdout",
          "text": [
            "MoviePy - Done.\n",
            "Doctor - Chellamma Video  Sivakarthikeyan  Anirudh Ravichander  Nelson Dilipkumar  Jonita Gandhi.mp4\n",
            "MoviePy - Writing audio in /content/Songs/Doctor - Chellamma Video  Sivakarthikeyan  Anirudh Ravichander  Nelson Dilipkumar  Jonita Gandhi.mp3\n"
          ]
        },
        {
          "output_type": "stream",
          "name": "stderr",
          "text": []
        },
        {
          "output_type": "stream",
          "name": "stdout",
          "text": [
            "MoviePy - Done.\n",
            "Rendu Kaadhal Video  Vijay Sethupathi  Anirudh.mp4\n",
            "MoviePy - Writing audio in /content/Songs/Rendu Kaadhal Video  Vijay Sethupathi  Anirudh.mp3\n"
          ]
        },
        {
          "output_type": "stream",
          "name": "stderr",
          "text": []
        },
        {
          "output_type": "stream",
          "name": "stdout",
          "text": [
            "MoviePy - Done.\n",
            "Muttaalaai Muttaalaai Video  Gautham Karthik  DImman.mp4\n",
            "MoviePy - Writing audio in /content/Songs/Muttaalaai Muttaalaai Video  Gautham Karthik  DImman.mp3\n"
          ]
        },
        {
          "output_type": "stream",
          "name": "stderr",
          "text": []
        },
        {
          "output_type": "stream",
          "name": "stdout",
          "text": [
            "MoviePy - Done.\n",
            "வாங்கண்ணா வணக்கங்கனா தமிழ் பாடல்வரிகள்  விஜய்.mp4\n",
            "MoviePy - Writing audio in /content/Songs/வாங்கண்ணா வணக்கங்கனா தமிழ் பாடல்வரிகள்  விஜய்.mp3\n"
          ]
        },
        {
          "output_type": "stream",
          "name": "stderr",
          "text": []
        },
        {
          "output_type": "stream",
          "name": "stdout",
          "text": [
            "MoviePy - Done.\n",
            "Nee Marilyn Monroe - Video Song  Azhagiya Tamil Magan  Vijay  AR Rahman  Ayngaran.mp4\n",
            "MoviePy - Writing audio in /content/Songs/Nee Marilyn Monroe - Video Song  Azhagiya Tamil Magan  Vijay  AR Rahman  Ayngaran.mp3\n"
          ]
        },
        {
          "output_type": "stream",
          "name": "stderr",
          "text": []
        },
        {
          "output_type": "stream",
          "name": "stdout",
          "text": [
            "MoviePy - Done.\n",
            "Pala Kodi Pengalilay Official Video  India Pakistan  Vijay Antony Sushma Raj  Pasupathy Jegan.mp4\n",
            "MoviePy - Writing audio in /content/Songs/Pala Kodi Pengalilay Official Video  India Pakistan  Vijay Antony Sushma Raj  Pasupathy Jegan.mp3\n"
          ]
        },
        {
          "output_type": "stream",
          "name": "stderr",
          "text": []
        },
        {
          "output_type": "stream",
          "name": "stdout",
          "text": [
            "MoviePy - Done.\n",
            "Red Road-u (From Jil Jung Juk).mp4\n",
            "MoviePy - Writing audio in /content/Songs/Red Road-u (From Jil Jung Juk).mp3\n"
          ]
        },
        {
          "output_type": "stream",
          "name": "stderr",
          "text": []
        },
        {
          "output_type": "stream",
          "name": "stdout",
          "text": [
            "MoviePy - Done.\n",
            "Tamil Songs  Aal Thotta Boopathy  Youth  Tamil Film Songs  Vijay Super Hit Songs.mp4\n",
            "MoviePy - Writing audio in /content/Songs/Tamil Songs  Aal Thotta Boopathy  Youth  Tamil Film Songs  Vijay Super Hit Songs.mp3\n"
          ]
        },
        {
          "output_type": "stream",
          "name": "stderr",
          "text": []
        },
        {
          "output_type": "stream",
          "name": "stdout",
          "text": [
            "MoviePy - Done.\n",
            "Vaadi Kutty Lady-India PakistanVijay AntonySushma RajPasupathyJeganMSBhaskarMano bala.mp4\n",
            "MoviePy - Writing audio in /content/Songs/Vaadi Kutty Lady-India PakistanVijay AntonySushma RajPasupathyJeganMSBhaskarMano bala.mp3\n"
          ]
        },
        {
          "output_type": "stream",
          "name": "stderr",
          "text": []
        },
        {
          "output_type": "stream",
          "name": "stdout",
          "text": [
            "MoviePy - Done.\n",
            "Boomi Enna Suthudhe (From Ethir Neechal).mp4\n",
            "MoviePy - Writing audio in /content/Songs/Boomi Enna Suthudhe (From Ethir Neechal).mp3\n"
          ]
        },
        {
          "output_type": "stream",
          "name": "stderr",
          "text": []
        },
        {
          "output_type": "stream",
          "name": "stdout",
          "text": [
            "MoviePy - Done.\n",
            "Dheemthanakka Thillana - Video Song  Villu  Vijay  Nayanthara  Prabhu Deva  DSP  Ayngaran.mp4\n",
            "MoviePy - Writing audio in /content/Songs/Dheemthanakka Thillana - Video Song  Villu  Vijay  Nayanthara  Prabhu Deva  DSP  Ayngaran.mp3\n"
          ]
        },
        {
          "output_type": "stream",
          "name": "stderr",
          "text": []
        },
        {
          "output_type": "stream",
          "name": "stdout",
          "text": [
            "MoviePy - Done.\n",
            "Sandakozhi Video Song  Sullan  Dhanush Sindhu Tolani Manivannan Pasupathy  Ramana  Vidyasagar.mp4\n",
            "MoviePy - Writing audio in /content/Songs/Sandakozhi Video Song  Sullan  Dhanush Sindhu Tolani Manivannan Pasupathy  Ramana  Vidyasagar.mp3\n"
          ]
        },
        {
          "output_type": "stream",
          "name": "stderr",
          "text": []
        },
        {
          "output_type": "stream",
          "name": "stdout",
          "text": [
            "MoviePy - Done.\n",
            "Per Vachaalum Vaikkaama (From Dikkiloona).mp4\n",
            "MoviePy - Writing audio in /content/Songs/Per Vachaalum Vaikkaama (From Dikkiloona).mp3\n"
          ]
        },
        {
          "output_type": "stream",
          "name": "stderr",
          "text": []
        },
        {
          "output_type": "stream",
          "name": "stdout",
          "text": [
            "MoviePy - Done.\n",
            "Kerala Song.mp4\n",
            "MoviePy - Writing audio in /content/Songs/Kerala Song.mp3\n"
          ]
        },
        {
          "output_type": "stream",
          "name": "stderr",
          "text": []
        },
        {
          "output_type": "stream",
          "name": "stdout",
          "text": [
            "MoviePy - Done.\n",
            "Tajmahal Oviya Kadhal Official Video  Full HD  Kalvanin Kadhali  Nayanthara  Yuvan Shankar Raja.mp4\n",
            "MoviePy - Writing audio in /content/Songs/Tajmahal Oviya Kadhal Official Video  Full HD  Kalvanin Kadhali  Nayanthara  Yuvan Shankar Raja.mp3\n"
          ]
        },
        {
          "output_type": "stream",
          "name": "stderr",
          "text": []
        },
        {
          "output_type": "stream",
          "name": "stdout",
          "text": [
            "MoviePy - Done.\n",
            "Vennila Thangachi Video  D Imman  Atharvaa.mp4\n",
            "MoviePy - Writing audio in /content/Songs/Vennila Thangachi Video  D Imman  Atharvaa.mp3\n"
          ]
        },
        {
          "output_type": "stream",
          "name": "stderr",
          "text": []
        },
        {
          "output_type": "stream",
          "name": "stdout",
          "text": [
            "MoviePy - Done.\n",
            "Naani Koni Video  Suriya Kajal Agarwal.mp4\n",
            "MoviePy - Writing audio in /content/Songs/Naani Koni Video  Suriya Kajal Agarwal.mp3\n"
          ]
        },
        {
          "output_type": "stream",
          "name": "stderr",
          "text": []
        },
        {
          "output_type": "stream",
          "name": "stdout",
          "text": [
            "MoviePy - Done.\n",
            "AR Rahman Hit Songs  Ennai Kaanavillaye Song  Kadhal Desam Tamil Movie  Vineeth  Tabu  Abbas.mp4\n",
            "MoviePy - Writing audio in /content/Songs/AR Rahman Hit Songs  Ennai Kaanavillaye Song  Kadhal Desam Tamil Movie  Vineeth  Tabu  Abbas.mp3\n"
          ]
        },
        {
          "output_type": "stream",
          "name": "stderr",
          "text": []
        },
        {
          "output_type": "stream",
          "name": "stdout",
          "text": [
            "MoviePy - Done.\n",
            "Hey Vetri Velaa (From Padikkathavan).mp4\n",
            "MoviePy - Writing audio in /content/Songs/Hey Vetri Velaa (From Padikkathavan).mp3\n"
          ]
        },
        {
          "output_type": "stream",
          "name": "stderr",
          "text": []
        },
        {
          "output_type": "stream",
          "name": "stdout",
          "text": [
            "MoviePy - Done.\n",
            "Hey Vaada Vaada.mp4\n",
            "MoviePy - Writing audio in /content/Songs/Hey Vaada Vaada.mp3\n"
          ]
        },
        {
          "output_type": "stream",
          "name": "stderr",
          "text": []
        },
        {
          "output_type": "stream",
          "name": "stdout",
          "text": [
            "MoviePy - Done.\n",
            "Aathadi (From Natpe Thunai).mp4\n",
            "MoviePy - Writing audio in /content/Songs/Aathadi (From Natpe Thunai).mp3\n"
          ]
        },
        {
          "output_type": "stream",
          "name": "stderr",
          "text": []
        },
        {
          "output_type": "stream",
          "name": "stdout",
          "text": [
            "MoviePy - Done.\n",
            "Athu Oru Kaalam Video  Jai Vijayalakshmi  Premgi Amaren.mp4\n",
            "MoviePy - Writing audio in /content/Songs/Athu Oru Kaalam Video  Jai Vijayalakshmi  Premgi Amaren.mp3\n"
          ]
        },
        {
          "output_type": "stream",
          "name": "stderr",
          "text": [
            "                                                                     "
          ]
        },
        {
          "output_type": "stream",
          "name": "stdout",
          "text": [
            "MoviePy - Done.\n"
          ]
        },
        {
          "output_type": "stream",
          "name": "stderr",
          "text": [
            "\r"
          ]
        }
      ]
    },
    {
      "cell_type": "code",
      "source": [
        "!zip -r /content/Song.zip /content/Songs"
      ],
      "metadata": {
        "colab": {
          "base_uri": "https://localhost:8080/"
        },
        "id": "Vydkf0jHxn1b",
        "outputId": "efa2e289-4ee6-4687-e9a6-dab6dd0d66fb"
      },
      "execution_count": null,
      "outputs": [
        {
          "output_type": "stream",
          "name": "stdout",
          "text": [
            "  adding: content/Songs/ (stored 0%)\n",
            "  adding: content/Songs/Yeppa Maama Treatu.mp3 (deflated 2%)\n",
            "  adding: content/Songs/Hara Hara Mahadevaki   Motta Shiva Ketta Shiva   Official HD Video Song.mp3 (deflated 1%)\n",
            "  adding: content/Songs/Shoot the Kuruvi.mp3 (deflated 3%)\n",
            "  adding: content/Songs/Antartica.mp3 (deflated 1%)\n",
            "  adding: content/Songs/Ayyo Ayyo - M Kumaran Son of Mahalakshmi  Jayam Ravi Asin  Srikanth Deva  ThinkTapes.mp3 (deflated 3%)\n",
            "  adding: content/Songs/Unmela Aasapattu  Vazhthugal HD Video Song + HD Audio  MadhavanBhavana Yuvan Shankar Raja.mp3 (deflated 0%)\n",
            "  adding: content/Songs/Enna Oru Enna Oru (From Pattatthu Yaanai).mp3 (deflated 1%)\n",
            "  adding: content/Songs/Siragugal Video Song  சிறகுகள் வந்தது  Sarvam  Arya  Trisha  Yuvan Shankar Raja Hits.mp3 (deflated 5%)\n",
            "  adding: content/Songs/Mazhakaatha.mp3 (deflated 1%)\n",
            "  adding: content/Songs/Oh Penne.mp3 (deflated 1%)\n",
            "  adding: content/Songs/Unnai Paartha Pinbu NaanVideo Song  Kadhal Mannan  Ajith Kumar Maanu  Romantic Tamil Song.mp3 (deflated 2%)\n",
            "  adding: content/Songs/Naan Movie Video Songs  Thapellam Thappe Illai  Vijay Antony.mp3 (deflated 1%)\n",
            "  adding: content/Songs/Nee Kobapattal Naanum - Video Song  Villu  Vijay  Nayanthara  Prabhu Deva  DSP  Ayngaran.mp3 (deflated 2%)\n",
            "  adding: content/Songs/Velai Illa Pattadhaari D25 VIP - Udhungada Sangu  Full Video Song.mp3 (deflated 3%)\n",
            "  adding: content/Songs/Annakili Nee Vaadi  4 Students Movie  Bharath  Gopika  Jassie Gift  Track Musics India.mp3 (deflated 4%)\n",
            "  adding: content/Songs/Kalakka Povathu - HD Video Song  Vasool Raja  Kamal Haasan  Sneha  Saran  Bharadwaj  Ayngaran.mp3 (deflated 0%)\n",
            "  adding: content/Songs/Billa songs  Tamil HD video Songs  My Name Is Billa Video Song  AjithNayanathara  Billa Movie.mp3 (deflated 6%)\n",
            "  adding: content/Songs/Amma Mela Sathiyam.mp3 (deflated 6%)\n",
            "  adding: content/Songs/Tajmahal Oviya Kadhal Official Video  Full HD  Kalvanin Kadhali  Nayanthara  Yuvan Shankar Raja.mp3 (deflated 1%)\n",
            "  adding: content/Songs/Salim  Siva Sambo  Tamil Movie Full video song.mp3 (deflated 1%)\n",
            "  adding: content/Songs/Top Tucker (feat Rashmika Mandanna).mp3 (deflated 3%)\n",
            "  adding: content/Songs/Valayapatti - Video Song  Azhagiya Tamil Magan  Vijay  Shreya  AR Rahman  Ayngaran.mp3 (deflated 2%)\n",
            "  adding: content/Songs/Thozhiya En Kadhaliya Tamil Song 4K  Kadhalil Vizhunthen Songs 4K  4KTAMIL  TOP10INDIA.mp3 (deflated 2%)\n",
            "  adding: content/Songs/Dhanush hits -Padichu Parthen hd.mp3 (deflated 3%)\n",
            "  adding: content/Songs/Yey Aatha Video Song  Malaikottai Tamil Movie  Vishal  Priyamani  Mani Sharma  Boopathy Pandian.mp3 (deflated 1%)\n",
            "  adding: content/Songs/Edhukku Machan.mp3 (deflated 2%)\n",
            "  adding: content/Songs/Thuli Thuli Video  Karthi Tamannah  Yuvan Shankar Raja.mp3 (deflated 1%)\n",
            "  adding: content/Songs/Yaendi Yaendi.mp3 (deflated 2%)\n",
            "  adding: content/Songs/Muttaalaai Muttaalaai Video  Gautham Karthik  DImman.mp3 (deflated 1%)\n",
            "  adding: content/Songs/Aathi  Full Video Song  Kaththi  Vijay Samantha Ruth Prabhu.mp3 (deflated 2%)\n",
            "  adding: content/Songs/Nee Marilyn Monroe - Video Song  Azhagiya Tamil Magan  Vijay  AR Rahman  Ayngaran.mp3 (deflated 2%)\n",
            "  adding: content/Songs/Sonna Puriyadhu.mp3 (deflated 1%)\n",
            "  adding: content/Songs/Machan Peru Madurey Video Song  Madurey Tamil Movie  Vijay  Sonia Agarwal  Vidyasagar.mp3 (deflated 1%)\n",
            "  adding: content/Songs/Asku Laska Nanban  Movie Songs  2k Video  நண்பன்  Vijay Ileana Jiva Srikanth.mp3 (deflated 1%)\n",
            "  adding: content/Songs/Pazhagikalam - Aambala  Full Video Song  Vishal Hansika  Hiphop Tamizha.mp3 (deflated 1%)\n",
            "  adding: content/Songs/Jingunamani.mp3 (deflated 2%)\n",
            "  adding: content/Songs/Kadhal Vaithu - Video Song  Deepavali  Jayam Ravi  Bhavana  Yuvan Shankar Raja  Ayngaran.mp3 (deflated 1%)\n",
            "  adding: content/Songs/Devathai - Poojai  Vishal Shruti  Hari  Yuvan  Video Song.mp3 (deflated 0%)\n",
            "  adding: content/Songs/Nee Yeppo Pulla Video  Vikram Prabhu Lakshmi Menon  D Imman.mp3 (deflated 2%)\n",
            "  adding: content/Songs/Chinna Thamarai.mp3 (deflated 2%)\n",
            "  adding: content/Songs/Mangalyam.mp3 (deflated 4%)\n",
            "  adding: content/Songs/O Sukumari - HD Video Song  Anniyan  Vikram  Shankar  Harris Jayaraj  Ayngaran.mp3 (deflated 1%)\n",
            "  adding: content/Songs/Karakudi Ilavarasi (From Kalakalappu 2).mp3 (deflated 5%)\n",
            "  adding: content/Songs/Kutty Pattas Music Video  Ashwin  Reba John  Venki  Santhosh Dhayanidhi  Sandy.mp3 (deflated 4%)\n",
            "  adding: content/Songs/Pala Kodi Pengalilay Official Video  India Pakistan  Vijay Antony Sushma Raj  Pasupathy Jegan.mp3 (deflated 1%)\n",
            "  adding: content/Songs/Maacho Tamil Video  Vijay Kajal Aggarwal  AR Rahman.mp3 (deflated 2%)\n",
            "  adding: content/Songs/Selfie Pulla.mp3 (deflated 2%)\n",
            "  adding: content/Songs/Kalasala Kalasala.mp3 (deflated 1%)\n",
            "  adding: content/Songs/Red Road-u (From Jil Jung Juk).mp3 (deflated 1%)\n",
            "  adding: content/Songs/Thaarumaaru Thakkaalisoru.mp3 (deflated 1%)\n",
            "  adding: content/Songs/Seemaraja  Varum Aana Varaathu Full Video Song  Sivakarthikeyan Samantha  DImman  24AM Studios.mp3 (deflated 5%)\n",
            "  adding: content/Songs/Kaathuvaakula Rendu Kaadhal - Dippam Dappam Lyric Vijay Sethupathi Anirudh Vignesh Shivan.mp3 (deflated 1%)\n",
            "  adding: content/Songs/Pudichiruka Illa Pudikalaya (From Kalakalappu 2).mp3 (deflated 5%)\n",
            "  adding: content/Songs/Vaada Thambi - Video Song  Etharkkum Thunindhavan  Suriya  Sun Pictures  Pandiraj  DImman.mp3 (deflated 1%)\n",
            "  adding: content/Songs/Amali Thumali.mp3 (deflated 1%)\n",
            "  adding: content/Songs/Waale Waale official Full Song HD.mp3 (deflated 2%)\n",
            "  adding: content/Songs/Elanthapalam Elanthapalam Video Song  Madurey Tamil Movie  Vijay  Sonia Agarwal  Vidyasagar.mp3 (deflated 1%)\n",
            "  adding: content/Songs/Sodakku Tamil Video  Suriya  Anirudh l Keerthi Suresh.mp3 (deflated 1%)\n",
            "  adding: content/Songs/Ponmagal Vandaal.mp3 (deflated 2%)\n",
            "  adding: content/Songs/Vaadiyamma Jakkamma - HD Video Song  வாடியம்மா ஜக்கம்மா  Thirumalai  Vijay  Jyothika Vidyasagar.mp3 (deflated 1%)\n",
            "  adding: content/Songs/Nahna Na Nah (From Biriyani).mp3 (deflated 1%)\n",
            "  adding: content/Songs/Title Track Video  Vijay Shruti Haasan  DSP.mp3 (deflated 1%)\n",
            "  adding: content/Songs/Michael - Pammare Full Video Song   Sundeep Kishan Vijay Sethupathi  Ranjit Jeyakodi  Sam CS.mp3 (deflated 2%)\n",
            "  adding: content/Songs/Aaniyae Pudunga Venandaa.mp3 (deflated 1%)\n",
            "  adding: content/Songs/Meherezylaa.mp3 (deflated 1%)\n",
            "  adding: content/Songs/Ennodu Vaa (From Thirudan Police).mp3 (deflated 1%)\n",
            "  adding: content/Songs/Ava Enna Video  Harris Jayaraj  Suriya.mp3 (deflated 2%)\n",
            "  adding: content/Songs/Scenu Scenu (From Sigaram Thodu).mp3 (deflated 2%)\n",
            "  adding: content/Songs/Yennamma Ippadi Panreengalaema (From Rajinimurugan).mp3 (deflated 2%)\n",
            "  adding: content/Songs/Sarkar - Top Tucker Official Video  Thalapathy Vijay  @ARRahman   AR Murugadoss.mp3 (deflated 1%)\n",
            "  adding: content/Songs/Hey Unnathan Song  Kanna Laddu Thinna Aasaiya Movie Song  Santhanam  Srinivasan  Sethu  Vishaka.mp3 (deflated 9%)\n",
            "  adding: content/Songs/Aasaiye Alai Poley Song  Kanna Laddu Thinna Aasaiya Movie Songs  Santhanam  Srinivasan  Sethu.mp3 (deflated 8%)\n",
            "  adding: content/Songs/Pambarakkannu Pachamilakaa.mp3 (deflated 1%)\n",
            "  adding: content/Songs/Nadigar Thilagam Video  Vikram Prabhu D Imman.mp3 (deflated 1%)\n",
            "  adding: content/Songs/Damukaatlaan Dumukaatalaa (From Koditta Idangalai Nirappuga).mp3 (deflated 1%)\n",
            "  adding: content/Songs/Orasaadha.mp3 (deflated 2%)\n",
            "  adding: content/Songs/Desi Girl - Official Video  Saahasam  STR Lakshmi Menon  Prashanth Nargis Fakhri  Thaman SS.mp3 (deflated 0%)\n",
            "  adding: content/Songs/Nijamellam Maranthupochu (From Ethir Neechal).mp3 (deflated 1%)\n",
            "  adding: content/Songs/Thimiru Kaattaadha Di (From Lkg).mp3 (deflated 4%)\n",
            "  adding: content/Songs/Yenna Solla Pore Video  Dhanush Tamannah  DSP.mp3 (deflated 1%)\n",
            "  adding: content/Songs/Pokkiri  Scenes  Vasantha Mullai Video Song  Pokkiri Video songs  Vijay  Asin  Vijay Dance.mp3 (deflated 5%)\n",
            "  adding: content/Songs/Azhage Azhage (From Oru Kal Oru Kannadi).mp3 (deflated 1%)\n",
            "  adding: content/Songs/O Podu  Nenju Thudikkuthu  Gemini 1080p HD VIdeo Song.mp3 (deflated 1%)\n",
            "  adding: content/Songs/Sottavaala.mp3 (deflated 1%)\n",
            "  adding: content/Songs/Naani Koni Video  Suriya Kajal Agarwal.mp3 (deflated 1%)\n",
            "  adding: content/Songs/Thanni Karuthirichi.mp3 (deflated 1%)\n",
            "  adding: content/Songs/Vadi Kutty Lady Official Video  Full HD  India Pakistan  Vijay Antony  Sushma  Deena Devarajan.mp3 (deflated 1%)\n",
            "  adding: content/Songs/Naan Nadandhal Adhiradi Video  Mani Sharma.mp3 (deflated 1%)\n",
            "  adding: content/Songs/Kollathey Kollathey (Video Song) - Kolaigaran  Vijay Antony Ashima  Andrew Louis  Simon KKing.mp3 (deflated 1%)\n",
            "  adding: content/Songs/The Illai - Video Edit.mp3 (deflated 1%)\n",
            "  adding: content/Songs/Taxi Taxi Video  AR Rahman  Shanthnu.mp3 (deflated 3%)\n",
            "  adding: content/Songs/Pakkam Vanthu  Full Video Song  Kaththi  Vijay Samantha Ruth Prabhu  AR Murugadoss Anirudh.mp3 (deflated 2%)\n",
            "  adding: content/Songs/Jai Sulthan.mp3 (deflated 1%)\n",
            "  adding: content/Songs/Azhagiya Tamil Magan Movie Songs HD  Nee Marilyn Monroe Video Song  Vijay  Namitha  AR Rahman.mp3 (deflated 1%)\n",
            "  adding: content/Songs/Verasa Pogayile Karoke Track.mp3 (deflated 3%)\n",
            "  adding: content/Songs/Kandangi Full Song - Jilla Tamil Movie  Vijay  Kajal Aggarwal  Imman  Shreya Ghoshal.mp3 (deflated 2%)\n",
            "  adding: content/Songs/Memory loss Tamil video song4kThillalangadi(@Sunnxt).mp3 (deflated 1%)\n",
            "  adding: content/Songs/Jay Jay  Unnai Naan Official Video Song  RMadhavan  Amogha   Pooja.mp3 (deflated 1%)\n",
            "  adding: content/Songs/Yeppadi Iruntha En Manasu  4K HD Video Song  Santhosh Subramaniyam  Jeyam Ravi  Jeliniya.mp3 (deflated 1%)\n",
            "  adding: content/Songs/Poo Mudhal Pen Varai (From Theeratha Vilaiyattu Pillai).mp3 (deflated 1%)\n",
            "  adding: content/Songs/Kadaikutty Singam - Sandakkaari Tamil Video  Karthi Sayyeshaa  D Imman.mp3 (deflated 1%)\n",
            "  adding: content/Songs/Chiku Chiku Boom Boom Video  Nakul Sunaina  D Imman.mp3 (deflated 1%)\n",
            "  adding: content/Songs/Takkaru Takkaru.mp3 (deflated 1%)\n",
            "  adding: content/Songs/Dikkiloona - Cycle Wheela Pola Video   Santhanam  Yuvanshankar Raja  Karthik Yogi.mp3 (deflated 4%)\n",
            "  adding: content/Songs/Paarai Mele.mp3 (deflated 1%)\n",
            "  adding: content/Songs/Appan Panna Video Song  Thirupaachi Tamil Movie  Vijay  Trisha  Dhina  Perarasu.mp3 (deflated 1%)\n",
            "  adding: content/Songs/Inna Mylu (Unplugged).mp3 (deflated 5%)\n",
            "  adding: content/Songs/Kathadi Pol.mp3 (deflated 6%)\n",
            "  adding: content/Songs/Naan Avanillai Tamil Movie  Song  Yean Enakku Video  Jeevan Sneha  Vijay Antony.mp3 (deflated 1%)\n",
            "  adding: content/Songs/Per Vachaalum Vaikkaama (From Dikkiloona).mp3 (deflated 2%)\n",
            "  adding: content/Songs/Vaadi Kutty Lady-India PakistanVijay AntonySushma RajPasupathyJeganMSBhaskarMano bala.mp3 (deflated 1%)\n",
            "  adding: content/Songs/AR Rahman Hit Songs  Ennai Kaanavillaye Song  Kadhal Desam Tamil Movie  Vineeth  Tabu  Abbas.mp3 (deflated 4%)\n",
            "  adding: content/Songs/Athu Oru Kaalam Video  Jai Vijayalakshmi  Premgi Amaren.mp3 (deflated 1%)\n",
            "  adding: content/Songs/Takku Takku Video  Vikram Prabhu  D Imman.mp3 (deflated 1%)\n",
            "  adding: content/Songs/Sachien Tamil Movie Songs  Kanmoodi Thirakumbothu Full Video Song 4K  Vijay  Genelia  DSP.mp3 (deflated 6%)\n",
            "  adding: content/Songs/Evandi Unna Pethan Video Song  Vaanam Tamil Movie Songs HD  Simbu  Anushka  Yuvan Shankar Raja.mp3 (deflated 1%)\n",
            "  adding: content/Songs/Therkku Cheemayile - Ajit Pooja Sujatha - Attahasam - Tamil Classic Song.mp3 (deflated 1%)\n",
            "  adding: content/Songs/Ivan Vera Mathiri - Lovulla Video  Vikram Prabhu Surabhi  C Sathya.mp3 (deflated 1%)\n",
            "  adding: content/Songs/Aaravalli.mp3 (deflated 1%)\n",
            "  adding: content/Songs/Nanban Movie Songs  Irukkana Idupu Irukkana   Star - VijayJiivaSrikanthIleana DCruz.mp3 (deflated 2%)\n",
            "  adding: content/Songs/Oru Ponna Parthein Mama  India Pakistan  Official Full Video Song  Vijay Antony Sushma Raj.mp3 (deflated 1%)\n",
            "  adding: content/Songs/Unnai Paartha Pinbu Naan HD Video Song  Kadhal Mannan Movie HD Video Song  FLAC Audio Muxed.mp3 (deflated 1%)\n",
            "  adding: content/Songs/Nenjukulla Nee.mp3 (deflated 4%)\n",
            "  adding: content/Songs/Hey Vaada Vaada  Tamil Video SOng  Kacheri Aarambam  Jiva   Poonam bajwa  D Imman.mp3 (deflated 2%)\n",
            "  adding: content/Songs/Im So Cool - Kaaki Sattai  Official Video Song  Sivakarthikeyan  Anirudh.mp3 (deflated 2%)\n",
            "  adding: content/Songs/வாங்கண்ணா வணக்கங்கனா தமிழ் பாடல்வரிகள்  விஜய்.mp3 (deflated 2%)\n",
            "  adding: content/Songs/Pala Kodi Pengalilay-India Pakistan  Vijay Antony Sushma Raj Pasupathy Jegan.mp3 (deflated 1%)\n",
            "  adding: content/Songs/Takkunu Takkunu (From Mr Local).mp3 (deflated 6%)\n",
            "  adding: content/Songs/Podu Aatam Podu  HD Video Song 51 AUDIO  Vallavan  Simbu  Yuvan Shankar Raja.mp3 (deflated 1%)\n",
            "  adding: content/Songs/Andha Madhiri Ponna.mp3 (deflated 4%)\n",
            "  adding: content/Songs/Yedho Maayam Saeigirai.mp3 (deflated 1%)\n",
            "  adding: content/Songs/Vennila Thangachi Video  D Imman  Atharvaa.mp3 (deflated 1%)\n",
            "  adding: content/Songs/Unnai Kanda Naal - Video  Salim  Vijay Antony  Tamil  HD Songs.mp3 (deflated 1%)\n",
            "  adding: content/Songs/Kumbida Pona Deivam Video Song  Thirupaachi Tamil Movie  Vijay  Trisha  Dhina  Perarasu.mp3 (deflated 1%)\n",
            "  adding: content/Songs/Vera Level - U.mp3 (deflated 2%)\n",
            "  adding: content/Songs/En Jannal Vandha Video  Yuvanshankar Raja  Vishal.mp3 (deflated 2%)\n",
            "  adding: content/Songs/Raangu.mp3 (deflated 1%)\n",
            "  adding: content/Songs/High Voltage.mp3 (deflated 1%)\n",
            "  adding: content/Songs/Oru Kuchi Oru Kulfi TheSelfieSong (From Kalakalappu 2).mp3 (deflated 5%)\n",
            "  adding: content/Songs/Hey Saala - HD Video Song  ஹே சாலா  Aegan  Ajith Kumar  Nayanthara  Yuvan Shankar Raja.mp3 (deflated 1%)\n",
            "  adding: content/Songs/Hi Sonna Podhum Video  Jayam Ravi Samyuktha Hegde Hiphop T.mp3 (deflated 1%)\n",
            "  adding: content/Songs/I Want a Girl.mp3 (deflated 1%)\n",
            "  adding: content/Songs/Jalsa Jalsa - Video Song  Villu  Vijay  Nayanthara  Prabhu Deva  Devi Sri Prasad  Ayngaran.mp3 (deflated 2%)\n",
            "  adding: content/Songs/Damakku Damakku.mp3 (deflated 1%)\n",
            "  adding: content/Songs/Manmadhan  Kadhal Valarthen Video Song  Silambarasan Jyotika  Yuvan Shankar Raja ThinkTapes.mp3 (deflated 3%)\n",
            "  adding: content/Songs/Adipoli.mp3 (deflated 6%)\n",
            "  adding: content/Songs/Maskara Pottu  Video Song  Salim  Vijay Antony  Supriya joshi  மஸ்காரா  சலீம்  Tamil HD Song.mp3 (deflated 1%)\n",
            "  adding: content/Songs/Mavanae Yaarukittae.mp3 (deflated 6%)\n",
            "  adding: content/Songs/Onnu Rendu.mp3 (deflated 1%)\n",
            "  adding: content/Songs/Kasu Panam (From Soodhu Kavvum).mp3 (deflated 1%)\n",
            "  adding: content/Songs/Vaada Vaa Machi Full Song Video HD  Orange Music.mp3 (deflated 1%)\n",
            "  adding: content/Songs/Aathangara Orathil Video  Jiiva  Harris Jayaraj  Super Hit.mp3 (deflated 1%)\n",
            "  adding: content/Songs/Master - Andha Kanna Paathaakaa Video  Thalapathy Vijay  Anirudh Ravichander  Lokesh Kanagaraj.mp3 (deflated 2%)\n",
            "  adding: content/Songs/Aambalaikum Pombalaikum.mp3 (deflated 1%)\n",
            "  adding: content/Songs/Yaar Ivan.mp3 (deflated 6%)\n",
            "  adding: content/Songs/Kerala Song.mp3 (deflated 4%)\n",
            "  adding: content/Songs/Thappu Thanda.mp3 (deflated 1%)\n",
            "  adding: content/Songs/Oh Shala Oh Shala (From Kaadhal Solla Vandhen).mp3 (deflated 1%)\n",
            "  adding: content/Songs/Tamil Songs  Aal Thotta Boopathy  Youth  Tamil Film Songs  Vijay Super Hit Songs.mp3 (deflated 0%)\n",
            "  adding: content/Songs/Karuppana Kaiyala Original   Thamirabarani HD.mp3 (deflated 1%)\n",
            "  adding: content/Songs/Aaluma Doluma Video  Ajith  Anirudh Ravichander.mp3 (deflated 2%)\n",
            "  adding: content/Songs/Thappa Dhaan Theriyum Video  Dhanush Kajal Agarwal  Anirudh.mp3 (deflated 2%)\n",
            "  adding: content/Songs/Pottadhu Pathala Video Song  Saguni   Karthi  Pranitha  Santhanam.mp3 (deflated 1%)\n",
            "  adding: content/Songs/Poondamalli - Full Song Video - Thadaiyara Thakka.mp3 (deflated 6%)\n",
            "  adding: content/Songs/Azhagiya Tamil Magan Movie Songs HD  Kelamal Kaiyile video Song  Vijay  Shriya  AR Rahman.mp3 (deflated 2%)\n",
            "  adding: content/Songs/Mersal Arasan Tamil Video  Vijay  AR Rahman.mp3 (deflated 2%)\n",
            "  adding: content/Songs/Va Va Va En Thalaiva Full Video Song 4K  Sachien Tamil Movie  Vijay  Genelia  Devi Sri Prasad.mp3 (deflated 6%)\n",
            "  adding: content/Songs/Uchimandai (From Vettaikaaran).mp3 (deflated 1%)\n",
            "  adding: content/Songs/Kaadhal Suthudhe Video Song  Saravana  Silambarasan  Jyothika  Srikanth Deva  Think Tapes.mp3 (deflated 4%)\n",
            "  adding: content/Songs/Yaar Indha Saalai Oram.mp3 (deflated 1%)\n",
            "  adding: content/Songs/Glamour Song.mp3 (deflated 2%)\n",
            "  adding: content/Songs/Talku Lessu Worku Moreu Video  Shanthnu Bhagyaraj Athulya Ravi.mp3 (deflated 1%)\n",
            "  adding: content/Songs/Polladha Ulagam.mp3 (deflated 5%)\n",
            "  adding: content/Songs/Mazhai Tamil Movie Songs HD  Mannile Video Song  Shriya  Jayam Ravi  Devi Sri Prasad.mp3 (deflated 1%)\n",
            "  adding: content/Songs/Onnum Puriyala Video  Vikram Prabhu Lakshmi Menon  D Imman.mp3 (deflated 2%)\n",
            "  adding: content/Songs/Paisa Note Video  Jayam Ravi Kajal Aggarwal  Hiphop Tamizha.mp3 (deflated 1%)\n",
            "  adding: content/Songs/Ur My Darling.mp3 (deflated 2%)\n",
            "  adding: content/Songs/Single Pasanga.mp3 (deflated 4%)\n",
            "  adding: content/Songs/Slum Anthem.mp3 (deflated 1%)\n",
            "  adding: content/Songs/Athuvutta (From Pokkiri Raja).mp3 (deflated 2%)\n",
            "  adding: content/Songs/Simbu Hit Songs  Thotta Poweru Da Video Song  Thotti Jaya Tamil Movie  Simbu  Harris Jayaraj.mp3 (deflated 7%)\n",
            "  adding: content/Songs/Bairavaa Video Songs  Pattaya Kelappu Video Song  Vijay Keerthy Suresh  Santhosh Narayanan.mp3 (deflated 1%)\n",
            "  adding: content/Songs/Nangaai.mp3 (deflated 1%)\n",
            "  adding: content/Songs/Thaakka Thaakka.mp3 (deflated 1%)\n",
            "  adding: content/Songs/Paatha Oru Lookula Video  Santhanam Ashna Zaveri.mp3 (deflated 1%)\n",
            "  adding: content/Songs/Kadhal Yaanai - HD Video Song  Anniyan  Vikram  Shankar  Harris Jayaraj  Ayngaran.mp3 (deflated 1%)\n",
            "  adding: content/Songs/Vaathi Coming.mp3 (deflated 1%)\n",
            "  adding: content/Songs/JollyO Gymkhana - Video Song Beast  Thalapathy Vijay  Pooja Hegde  Sun Pictures Nelson Anirudh.mp3 (deflated 0%)\n",
            "  adding: content/Songs/Sirikkalam Parakkalam - Kannum Kannum Kollaiyadithaal  Dulquer S Ritu V  Masala Coffee.mp3 (deflated 1%)\n",
            "  adding: content/Songs/GaandaKannazhagi - Video Song  Namma Veettu Pillai Sivakarthikeyan SunPictures Pandiraj DImman.mp3 (deflated 1%)\n",
            "  adding: content/Songs/Alaika Laika Video Song  Thuppakki  Harris Jayaraj  Vijay  Kajal Aggarwal.mp3 (deflated 1%)\n",
            "  adding: content/Songs/Mersalaayitten Video  AR Rahman  Vikram Amy Jackson  Sh.mp3 (deflated 1%)\n",
            "  adding: content/Songs/ஆதவன் - வாராயோ வாராயோ தமிழ் பாடல்வரிகள்  சூர்யா.mp3 (deflated 3%)\n",
            "  adding: content/Songs/Ammadi Un Azhagu Video  Vikram Prabhu D Imman.mp3 (deflated 1%)\n",
            "  adding: content/Songs/Idhu Varai Video.mp3 (deflated 2%)\n",
            "  adding: content/Songs/Senjitaley Video  Sivakarthikeyan  Anirudh  Latest Hit Song.mp3 (deflated 1%)\n",
            "  adding: content/Songs/Ippadi Mazhai.mp3 (deflated 1%)\n",
            "  adding: content/Songs/Oru Ponna Parthein Mama Official Video  Full HD  India Pakistan  Vijay Antony Sushma Raj.mp3 (deflated 1%)\n",
            "  adding: content/Songs/Kadhalikathey.mp3 (deflated 8%)\n",
            "  adding: content/Songs/Alwarpetai Aaluda - HD Video Song  Vasool Raja  Kamal Haasan  Sneha  Saran  Bharadwaj Ayngaran.mp3 (deflated 1%)\n",
            "  adding: content/Songs/Mukkala Mukkabala Video Song  Kadhalan Movie Songs  Prabhudeva  Nagma  AR Rahman.mp3 (deflated 4%)\n",
            "  adding: content/Songs/Vaanam Tamil Movie Songs HD  No Money No Honey Video Song  Simbu  Anushka  Yuvan Shankar Raja.mp3 (deflated 1%)\n",
            "  adding: content/Songs/Mudinja Ivana Pudi  Essaalaama 2K Video Song  Kiccha Sudeepa   Nithya Menen  KS Ravikumar.mp3 (deflated 1%)\n",
            "  adding: content/Songs/Madras To Madurai - Official Video Song  Aambala  Vishal  Sundar C  Hip Hop Tamizha.mp3 (deflated 1%)\n",
            "  adding: content/Songs/Dandanakka Video  Jayam Ravi Hansika  Imman.mp3 (deflated 2%)\n",
            "  adding: content/Songs/Jithu Jilladi.mp3 (deflated 1%)\n",
            "  adding: content/Songs/Arjun HeyMaamaaHeyMaaMaaVariyaa.mp3 (deflated 1%)\n",
            "  adding: content/Songs/Sarkar  - OMG Ponnu Song Video (Tamil)  Thalapathy Vijay Keerthy Suresh  @ARRahman.mp3 (deflated 3%)\n",
            "  adding: content/Songs/CEO in the House - Telugu.mp3 (deflated 3%)\n",
            "  adding: content/Songs/Asku Maaro Video  Kavin Teju Ashwini  Dharan Kumar  K Sivaangi  Dongli Jumbo  Sandy.mp3 (deflated 1%)\n",
            "  adding: content/Songs/Mozha Mozhannu - Video Song  Kuruvi  Vijay  Trisha  Vidyasagar  Ayngaran.mp3 (deflated 3%)\n",
            "  adding: content/Songs/Antarctica Song Tamil Video Song  Thuppakki  Thalapathy Vijay Kajal Aggarwal  Harris Jayaraj.mp3 (deflated 1%)\n",
            "  adding: content/Songs/Billa Video songs  Billa Songs  Vethalaya Potendi Video Song  Ajith  Nayanthara  Yuvan Songs.mp3 (deflated 6%)\n",
            "  adding: content/Songs/Neduvaali.mp3 (deflated 1%)\n",
            "  adding: content/Songs/Kadhal kasakkuthaiya Video Song  Aan Paavam Movie Video Song   Ilaiyaraaja Music  Vaali  JDMusic.mp3 (deflated 1%)\n",
            "  adding: content/Songs/Thanjavoor Jilla Kaari Video  Mani Sharma.mp3 (deflated 2%)\n",
            "  adding: content/Songs/Arabic Kuthu  Halamithi Habibo -Lyric Video Beast Thalapathy Vijay Sun Pictures Nelson Anirudh.mp3 (deflated 2%)\n",
            "  adding: content/Songs/Pachchai Vanna Video  Gautham Karthik Priya Anand.mp3 (deflated 1%)\n",
            "  adding: content/Songs/Polakattum Para Para.mp3 (deflated 2%)\n",
            "  adding: content/Songs/Rendu Kaadhal Video  Vijay Sethupathi  Anirudh.mp3 (deflated 1%)\n",
            "  adding: content/Songs/Yappa Chappa.mp3 (deflated 1%)\n",
            "  adding: content/Songs/Minnalai Pidithu Song - Shajahan Tamil Movie  Vijay  Richa Pallod  Unni Menon  Mani Sharma.mp3 (deflated 1%)\n",
            "  adding: content/Songs/Private Party Video  Sivakarthikeyan Priyanka Mohan  Anirudh.mp3 (deflated 1%)\n",
            "  adding: content/Songs/Doctor - Chellamma Video  Sivakarthikeyan  Anirudh Ravichander  Nelson Dilipkumar  Jonita Gandhi.mp3 (deflated 1%)\n",
            "  adding: content/Songs/Mannavanae Mannavanae Video  Vijay  DSP.mp3 (deflated 1%)\n",
            "  adding: content/Songs/Anbe Anbe (From Darling).mp3 (deflated 1%)\n",
            "  adding: content/Songs/Sooda Oru Sooriyan - Sathriyan  Video Song  Yuvan Shankar Raja  Vikram Prabhu Manjima Mohan.mp3 (deflated 1%)\n",
            "  adding: content/Songs/Kattu Kattu Video Song  Thirupaachi Tamil Movie  Vijay  Trisha  Devi Sri Prasad  Perarasu.mp3 (deflated 1%)\n",
            "  adding: content/Songs/Papa Papa (From Bairavaa).mp3 (deflated 1%)\n",
            "  adding: content/Songs/Kovakkara Kiliye Video  Yuvanshankar Raja Suriya.mp3 (deflated 1%)\n",
            "  adding: content/Songs/Yembuttu Irukkuthu Aasai Video  Imman  Latest Hit.mp3 (deflated 1%)\n",
            "  adding: content/Songs/Iragai Poley  Naan Mahaan Alla  Karthi  Kajal Aggarwal  Yuvan Shankar Raja  Suseenthiran.mp3 (deflated 1%)\n",
            "  adding: content/Songs/Theeratha Vilaiyattu.mp3 (deflated 1%)\n",
            "  adding: content/Songs/Maari Thara Local Video  Dhanush  Anirudh Ravichander.mp3 (deflated 1%)\n",
            "  adding: content/Songs/Heartile Battery  Nanban  2k Video  நண்பன்   Vijay Ileana Jiva Srikanth.mp3 (deflated 1%)\n",
            "  adding: content/Songs/Un Mela Aasadhaan (From Aayirathil Oruvan).mp3 (deflated 2%)\n",
            "  adding: content/Songs/Two Two Two.mp3 (deflated 1%)\n",
            "  adding: content/Songs/Pidikkudhae (From Sigaram Thodu).mp3 (deflated 1%)\n",
            "  adding: content/Songs/Kuch Kuch Hota Hai Video Song  Bagheera  Prabhu Deva Adhik Ravichandran Ganesan S RVBharathan.mp3 (deflated 5%)\n",
            "  adding: content/Songs/Lajjavathiye  4 Students HD Video Song + HD Audio  BharathGopika   Jassie Gift.mp3 (deflated 1%)\n",
            "  adding: content/Songs/Naan Siricha.mp3 (deflated 9%)\n",
            "  adding: content/Songs/Maatikichu (From Meesaya Murukku).mp3 (deflated 3%)\n",
            "  adding: content/Songs/Kannadi Poovukku - Official Video  Enakku Vaaitha Adimaigal  Jai Pranitha  Santhosh Dhayanidhi.mp3 (deflated 2%)\n",
            "  adding: content/Songs/Aathadi Aathadi.mp3 (deflated 1%)\n",
            "  adding: content/Songs/Edhirthu Nill (From Biriyani).mp3 (deflated 1%)\n",
            "  adding: content/Songs/Dheemthanakka Thillana - Video Song  Villu  Vijay  Nayanthara  Prabhu Deva  DSP  Ayngaran.mp3 (deflated 2%)\n",
            "  adding: content/Songs/Kudi Vaazhthu video song Mugamoodi.mp3 (deflated 1%)\n",
            "  adding: content/Songs/Oxygen - Video Song  Kavan  Hiphop Tamizha  K V Anand  Vijay Sethupathi Madonna Sebastian.mp3 (deflated 2%)\n",
            "  adding: content/Songs/Kadhalan Movie Songs  Kadhalikum Pennin Full Video Song 4K  Prabhu Deva  Nagma  SPB  AR Rahman.mp3 (deflated 4%)\n",
            "  adding: content/Songs/Soppanasundari Tamil Video  D Imman  Vikram Prabhu.mp3 (deflated 2%)\n",
            "  adding: content/Songs/Boomi Enna Suthudhe (From Ethir Neechal).mp3 (deflated 1%)\n",
            "  adding: content/Songs/Yellae Lama Video  Suriya Shruti  Harris Jayaraj.mp3 (deflated 1%)\n",
            "  adding: content/Songs/AR Rahman Hit Songs  Urvasi Urvasi Song  Kadhalan Tamil Movie  Prabhudeva  Vadivelu  AR Rahman.mp3 (deflated 4%)\n",
            "  adding: content/Songs/Chellamae Tamil Movie Video Songs  Kadhalikkum Aasai Song  Vishal  Reema Sen  Bharath.mp3 (deflated 2%)\n",
            "  adding: content/Songs/Latest Tamil Hits  Penn Oruthi Video Song  Gemini Tamil Movie Songs  Vikram  Kiran  Bharathwaj.mp3 (deflated 7%)\n",
            "  adding: content/Songs/Naakka Mukka  Male Version  Video Song  Vijay Antony  Kaadhalil Vizhunthen   Nakul Sunaina.mp3 (deflated 1%)\n",
            "  adding: content/Songs/Hey Vaada Vaada.mp3 (deflated 2%)\n",
            "  adding: content/Songs/Paiya - Suthuthey Video  Karthi Tamannah  Yuvan Shankar Raja.mp3 (deflated 1%)\n",
            "  adding: content/Songs/Idhazhin Oram Video  Dhanush Shruti  Anirudh.mp3 (deflated 2%)\n",
            "  adding: content/Songs/Pandi Naatu Kodi (From Jigarthanda).mp3 (deflated 1%)\n",
            "  adding: content/Songs/Kona Kondakari Video  Kathir Oviya.mp3 (deflated 2%)\n",
            "  adding: content/Songs/Chillax.mp3 (deflated 2%)\n",
            "  adding: content/Songs/Naan Aalana Thamarai.mp3 (deflated 1%)\n",
            "  adding: content/Songs/Rajapattai Movie Songs  Villathi Villangal  Vikram Deeksha Seth K Viswanath.mp3 (deflated 1%)\n",
            "  adding: content/Songs/Ailesa.mp3 (deflated 1%)\n",
            "  adding: content/Songs/Hey Vetri Velaa (From Padikkathavan).mp3 (deflated 1%)\n",
            "  adding: content/Songs/Allah (From Ninaithale Inikkum).mp3 (deflated 1%)\n",
            "  adding: content/Songs/Villu  Daddy Mummy - Video Song  Vijay  Prabhudeva  Devi Sri Prasad  Ayngaran.mp3 (deflated 2%)\n",
            "  adding: content/Songs/Breakup Song.mp3 (deflated 6%)\n",
            "  adding: content/Songs/Obamaavum.mp3 (deflated 1%)\n",
            "  adding: content/Songs/Kaakkaa Muttai Video  Vikram Prabhu D Imman.mp3 (deflated 1%)\n",
            "  adding: content/Songs/Venmathi Venmathiye Official Video  Minnale  Harris Jayaraj  Madhavan  Gautham V Menon.mp3 (deflated 1%)\n",
            "  adding: content/Songs/Hey Singari  Music Video  GVPrakash  Micset Sriram  AJ Musical  Vilva  Micset.mp3 (deflated 2%)\n",
            "  adding: content/Songs/Odi Odi Vilayada Video  Nakul Sunaina  D Imman.mp3 (deflated 1%)\n",
            "  adding: content/Songs/Karigalan Video  Vijay Anushka.mp3 (deflated 1%)\n",
            "  adding: content/Songs/Machi Open the Bottle.mp3 (deflated 1%)\n",
            "  adding: content/Songs/Gundu Manga Thoppukulle Full Video Song 4K  Sachien Tamil Movie  Vijay  Genelia  Devi Sri Prasad.mp3 (deflated 6%)\n",
            "  adding: content/Songs/Memory Loss.mp3 (deflated 1%)\n",
            "  adding: content/Songs/Mayam Seidhayo Video  Vijay Hansika  Vijay Antony.mp3 (deflated 4%)\n",
            "  adding: content/Songs/Arakkiyae.mp3 (deflated 1%)\n",
            "  adding: content/Songs/Osthe Maamey.mp3 (deflated 1%)\n",
            "  adding: content/Songs/High On Love.mp3 (deflated 1%)\n",
            "  adding: content/Songs/Feel My Love (From Kutty).mp3 (deflated 1%)\n",
            "  adding: content/Songs/Kanne Kanne (From Ayogya).mp3 (deflated 1%)\n",
            "  adding: content/Songs/Love Panlama Video  STR  Dharan Kumar.mp3 (deflated 1%)\n",
            "  adding: content/Songs/Oru Kal Oru Kannadi Song 4K  YUVAN MOVIE VERSION 4K  Siva Manasula Sakthi Songs 4K  4KTAMIL.mp3 (deflated 3%)\n",
            "  adding: content/Songs/Chammak Challo (Film Version).mp3 (deflated 1%)\n",
            "  adding: content/Songs/Solli Tholaiyen Ma - Yaakkai  Official Video Song  Yuvan Shankar Raja  Dhanush  Vignesh ShivN.mp3 (deflated 1%)\n",
            "  adding: content/Songs/Ussumu Laresey.mp3 (deflated 1%)\n",
            "  adding: content/Songs/Kadhalikka.mp3 (deflated 1%)\n",
            "  adding: content/Songs/Google Google.mp3 (deflated 1%)\n",
            "  adding: content/Songs/Master - Kutti Story Video  Thalapathy Vijay  Anirudh Ravichander  Lokesh Kanagaraj.mp3 (deflated 1%)\n",
            "  adding: content/Songs/Loosu Penne - HD Video Song  லூசு பெண்ணே  Vallavan  Silambarasan  Nayanthara Yuvan Shankar Raja.mp3 (deflated 1%)\n",
            "  adding: content/Songs/Vaanganna Vanakkanganna (From Thalaivaa).mp3 (deflated 1%)\n",
            "  adding: content/Songs/Manmatha Raasa Video Song - Thiruda Thirudi  Dhanush Chaya Singh  Dhina.mp3 (deflated 4%)\n",
            "  adding: content/Songs/Jingiliya Video  Vijay Shruti Haasan  DSP.mp3 (deflated 2%)\n",
            "  adding: content/Songs/Irukkiraai.mp3 (deflated 1%)\n",
            "  adding: content/Songs/Yammadi Aathadi - HD Video Song  யம்மாடி ஆத்தாடி  Vallavan  Silambarasan  Nayanthara  Yuvan.mp3 (deflated 0%)\n",
            "  adding: content/Songs/Kannai Namadhey - Gaana Bala.mp3 (deflated 2%)\n",
            "  adding: content/Songs/Eno Kangal.mp3 (deflated 1%)\n",
            "  adding: content/Songs/Munnal Kadhali Video  Jayam Ravi  D Imman.mp3 (deflated 1%)\n",
            "  adding: content/Songs/Adiyae Ivalaey Video  Jayam Ravi Hansika  D Imman.mp3 (deflated 1%)\n",
            "  adding: content/Songs/Kutti Puli Kootam Tamil Video Song  Thuppakki  Thalapathy Vijay  Harris Jayaraj.mp3 (deflated 1%)\n",
            "  adding: content/Songs/Kuru Kuru - Video song  Vathikuchi  Anjali Dhileban  ARMurugadoss  Ghibran  Fox Star Studios.mp3 (deflated 3%)\n",
            "  adding: content/Songs/Mazhaiye Mazhaiye Eeram 2009 Tamil HD Video Song 1080P Bluray.mp3 (deflated 1%)\n",
            "  adding: content/Songs/Chella Kutti.mp3 (deflated 1%)\n",
            "  adding: content/Songs/Aathadi (From Natpe Thunai).mp3 (deflated 5%)\n",
            "  adding: content/Songs/Ellapugazhum - Video Song  Azhagiya Tamil Magan  Vijay  AR Rahman  Ayngaran.mp3 (deflated 2%)\n",
            "  adding: content/Songs/Unnale Unnale - Video Song  உன்னாலே உன்னாலே  Vinay  Sadha  Jeeva  Harris Jayaraj  Ayngaran.mp3 (deflated 2%)\n",
            "  adding: content/Songs/Sandakozhi Video Song  Sullan  Dhanush Sindhu Tolani Manivannan Pasupathy  Ramana  Vidyasagar.mp3 (deflated 3%)\n",
            "  adding: content/Songs/En Kadhal Solla Video  Karthi Tamannah  Yuvan Shankar Raja.mp3 (deflated 3%)\n",
            "  adding: content/Songs/Kodana Kodi  Full Video Song  Saroja  Yuvan Shankar Raja  Venkat Prabhu.mp3 (deflated 3%)\n",
            "  adding: content/Songs/A Aa E Ee   Mena Minuki Song.mp3 (deflated 2%)\n",
            "  adding: content/Songs/Macha Kannai.mp3 (deflated 2%)\n",
            "  adding: content/Songs/Anantham Anantham  ( Poove Unnakagha ).mp3 (deflated 2%)\n",
            "  adding: content/Songs/Adada Mazhaida Video  Karthi Tamannah  Yuvan Shankar Raja.mp3 (deflated 1%)\n",
            "  adding: content/Songs/Azhagho Azhaghu (From Samar).mp3 (deflated 1%)\n"
          ]
        }
      ]
    }
  ]
}